{
 "cells": [
  {
   "cell_type": "code",
   "execution_count": 1,
   "metadata": {
    "collapsed": false,
    "deletable": true,
    "editable": true
   },
   "outputs": [
    {
     "name": "stdout",
     "output_type": "stream",
     "text": [
      "Populating the interactive namespace from numpy and matplotlib\n"
     ]
    }
   ],
   "source": [
    "import pandas as pd\n",
    "from sklearn.preprocessing import StandardScaler\n",
    "import numpy as np\n",
    "%pylab inline"
   ]
  },
  {
   "cell_type": "code",
   "execution_count": 2,
   "metadata": {
    "collapsed": false,
    "deletable": true,
    "editable": true
   },
   "outputs": [
    {
     "name": "stderr",
     "output_type": "stream",
     "text": [
      "/usr/local/lib/python2.7/dist-packages/IPython/core/interactiveshell.py:2717: DtypeWarning: Columns (19,55) have mixed types. Specify dtype option on import or set low_memory=False.\n",
      "  interactivity=interactivity, compiler=compiler, result=result)\n"
     ]
    }
   ],
   "source": [
    "df = pd.read_csv(\"loan.csv\")"
   ]
  },
  {
   "cell_type": "code",
   "execution_count": 3,
   "metadata": {
    "collapsed": false,
    "deletable": true,
    "editable": true
   },
   "outputs": [],
   "source": [
    "X = pd.DataFrame()"
   ]
  },
  {
   "cell_type": "code",
   "execution_count": 4,
   "metadata": {
    "collapsed": false,
    "deletable": true,
    "editable": true
   },
   "outputs": [],
   "source": [
    "X['temp1'] = pd.get_dummies(df.loan_status)['Fully Paid']\n",
    "X['temp2'] = pd.get_dummies(df.loan_status)['Current']\n",
    "X['good_loan'] = X['temp1'] + X['temp2']\n",
    "X = X.drop('temp1', 1)\n",
    "X = X.drop('temp2', 1)\n",
    "X['loan_amnt'] = df['loan_amnt'] \n",
    "X['term60'] = pd.get_dummies(df.term)[' 60 months']\n",
    "X['term36'] = pd.get_dummies(df.term)[' 36 months']\n",
    "X['int_rate'] = df['int_rate']\n",
    "X['installment'] = df['installment']\n",
    "X['emp_length0'] = pd.get_dummies(df.emp_length)['< 1 year']\n",
    "X['emp_length1'] = pd.get_dummies(df.emp_length)['1 year']\n",
    "X['emp_length2'] = pd.get_dummies(df.emp_length)['2 years']\n",
    "X['emp_length3'] = pd.get_dummies(df.emp_length)['3 years']\n",
    "X['emp_length4'] = pd.get_dummies(df.emp_length)['4 years']\n",
    "X['emp_length5'] = pd.get_dummies(df.emp_length)['5 years']\n",
    "X['emp_length6'] = pd.get_dummies(df.emp_length)['6 years']\n",
    "X['emp_length7'] = pd.get_dummies(df.emp_length)['7 years']\n",
    "X['emp_length8'] = pd.get_dummies(df.emp_length)['8 years']\n",
    "X['emp_length9'] = pd.get_dummies(df.emp_length)['9 years']\n",
    "X['emp_length10+'] = pd.get_dummies(df.emp_length)['10+ years']\n",
    "X['emp_unemployed'] = pd.get_dummies(df.emp_length)['n/a']\n",
    "X['home_rent'] = pd.get_dummies(df.home_ownership)['RENT']\n",
    "X['home_own'] = pd.get_dummies(df.home_ownership)['OWN']\n",
    "X['home_mortgage'] = pd.get_dummies(df.home_ownership)['MORTGAGE']\n",
    "X['home_none'] = pd.get_dummies(df.home_ownership)['NONE']\n",
    "X['home_other'] = pd.get_dummies(df.home_ownership)['OTHER']\n",
    "X['annual_inc'] = df['annual_inc']\n",
    "X['verification_status_yes'] = pd.get_dummies(df.verification_status)['Verified']\n",
    "X['verification_status_source'] = pd.get_dummies(df.verification_status)['Source Verified']\n",
    "X['verification_status_no'] = pd.get_dummies(df.verification_status)['Not Verified']\n",
    "\n",
    "X['purpose_credit_card'] = pd.get_dummies(df.purpose)['credit_card']\n",
    "X['purpose_car'] = pd.get_dummies(df.purpose)['car']\n",
    "X['purpose_small_business'] = pd.get_dummies(df.purpose)['small_business']\n",
    "X['purpose_other'] = pd.get_dummies(df.purpose)['other']\n",
    "X['purpose_wedding'] = pd.get_dummies(df.purpose)['wedding']\n",
    "X['purpose_debt_consolidation'] = pd.get_dummies(df.purpose)['debt_consolidation']\n",
    "X['purpose_home_improvement'] = pd.get_dummies(df.purpose)['home_improvement']\n",
    "X['purpose_major_purchase'] = pd.get_dummies(df.purpose)['major_purchase']\n",
    "X['purpose_medical'] = pd.get_dummies(df.purpose)['medical']\n",
    "X['purpose_moving'] = pd.get_dummies(df.purpose)['moving']\n",
    "X['purpose_vacation'] = pd.get_dummies(df.purpose)['vacation']\n",
    "X['purpose_house'] = pd.get_dummies(df.purpose)['house']\n",
    "X['purpose_renewable_energy'] = pd.get_dummies(df.purpose)['renewable_energy']\n",
    "X['purpose_educational'] = pd.get_dummies(df.purpose)['educational']\n",
    "#X['zip_code'] = df['zip_code'].str.extract('(\\d\\d\\d)', expand=True)\n",
    "\n",
    "#X['addr_state_AZ'] = pd.get_dummies(df.addr_state)['AZ']\n",
    "#X['addr_state_GA'] = pd.get_dummies(df.addr_state)['GA']\n",
    "#X['addr_state_IL'] = pd.get_dummies(df.addr_state)['IL']\n",
    "#X['addr_state_CA'] = pd.get_dummies(df.addr_state)['CA']\n",
    "#X['addr_state_OR'] = pd.get_dummies(df.addr_state)['OR']\n",
    "#X['addr_state_NC'] = pd.get_dummies(df.addr_state)['NC']\n",
    "#X['addr_state_TX'] = pd.get_dummies(df.addr_state)['TX']\n",
    "#X['addr_state_VA'] = pd.get_dummies(df.addr_state)['VA']\n",
    "#X['addr_state_MO'] = pd.get_dummies(df.addr_state)['MO']\n",
    "#X['addr_state_CT'] = pd.get_dummies(df.addr_state)['CT']\n",
    "#X['addr_state_UT'] = pd.get_dummies(df.addr_state)['UT']\n",
    "#X['addr_state_FL'] = pd.get_dummies(df.addr_state)['FL']\n",
    "#X['addr_state_NY'] = pd.get_dummies(df.addr_state)['NY']\n",
    "#X['addr_state_PA'] = pd.get_dummies(df.addr_state)['PA']\n",
    "#X['addr_state_MN'] = pd.get_dummies(df.addr_state)['MN']\n",
    "#X['addr_state_NJ'] = pd.get_dummies(df.addr_state)['NJ']\n",
    "#X['addr_state_KY'] = pd.get_dummies(df.addr_state)['KY']\n",
    "#X['addr_state_OH'] = pd.get_dummies(df.addr_state)['OH']\n",
    "#X['addr_state_SC'] = pd.get_dummies(df.addr_state)['SC']\n",
    "#X['addr_state_RI'] = pd.get_dummies(df.addr_state)['RI']\n",
    "#X['addr_state_LA'] = pd.get_dummies(df.addr_state)['LA']\n",
    "#X['addr_state_MA'] = pd.get_dummies(df.addr_state)['MA']\n",
    "#X['addr_state_WA'] = pd.get_dummies(df.addr_state)['WA']\n",
    "#X['addr_state_WI'] = pd.get_dummies(df.addr_state)['WI']\n",
    "#X['addr_state_AL'] = pd.get_dummies(df.addr_state)['AL']\n",
    "#X['addr_state_CO'] = pd.get_dummies(df.addr_state)['CO']\n",
    "#X['addr_state_KS'] = pd.get_dummies(df.addr_state)['KS']\n",
    "#X['addr_state_NV'] = pd.get_dummies(df.addr_state)['NV']\n",
    "#X['addr_state_AK'] = pd.get_dummies(df.addr_state)['AK']\n",
    "#X['addr_state_MD'] = pd.get_dummies(df.addr_state)['MD']\n",
    "#X['addr_state_WV'] = pd.get_dummies(df.addr_state)['WV']\n",
    "#X['addr_state_VT'] = pd.get_dummies(df.addr_state)['VT']\n",
    "#X['addr_state_MI'] = pd.get_dummies(df.addr_state)['MI']\n",
    "#X['addr_state_DC'] = pd.get_dummies(df.addr_state)['DC']\n",
    "#X['addr_state_SD'] = pd.get_dummies(df.addr_state)['SD']\n",
    "#X['addr_state_NH'] = pd.get_dummies(df.addr_state)['NH']\n",
    "#X['addr_state_AR'] = pd.get_dummies(df.addr_state)['AR']\n",
    "#X['addr_state_NM'] = pd.get_dummies(df.addr_state)['NM']\n",
    "#X['addr_state_MT'] = pd.get_dummies(df.addr_state)['MT']\n",
    "#X['addr_state_HI'] = pd.get_dummies(df.addr_state)['HI']\n",
    "#X['addr_state_WY'] = pd.get_dummies(df.addr_state)['WY']\n",
    "#X['addr_state_OK'] = pd.get_dummies(df.addr_state)['OK']\n",
    "#X['addr_state_DE'] = pd.get_dummies(df.addr_state)['DE']\n",
    "#X['addr_state_MS'] = pd.get_dummies(df.addr_state)['MS']\n",
    "#X['addr_state_TN'] = pd.get_dummies(df.addr_state)['TN']\n",
    "#X['addr_state_IA'] = pd.get_dummies(df.addr_state)['IA']\n",
    "#X['addr_state_NE'] = pd.get_dummies(df.addr_state)['NE']\n",
    "#X['addr_state_ID'] = pd.get_dummies(df.addr_state)['ID']\n",
    "#X['addr_state_IN'] = pd.get_dummies(df.addr_state)['IN']\n",
    "#X['addr_state_ME'] = pd.get_dummies(df.addr_state)['ME']\n",
    "#X['addr_state_ND'] = pd.get_dummies(df.addr_state)['ND']\n",
    "\n",
    "X['dti'] = df['dti']\n",
    "X['delinq_2yrs'] = df['delinq_2yrs']\n",
    "#X['earliest_cr_line'] = df['earliest_cr_line'].str.extract('(\\d\\d\\d\\d)', expand=True)\n",
    "X['inq_last_6mths'] = df['inq_last_6mths']\n",
    "X['open_acc'] = df['open_acc']\n",
    "X['pub_rec'] = df['pub_rec']\n",
    "X['revol_bal'] = df['revol_bal']\n",
    "X['revol_util'] = df['revol_util']\n",
    "X['total_acc'] = df['total_acc']\n",
    "#X['last_credit_pull_d'] = df['last_credit_pull_d'].str.extract('(\\d\\d\\d\\d)', expand=True)\n",
    "#X['application_type_I'] = pd.get_dummies(df.application_type)['INDIVIDUAL']\n",
    "#X['application_type_J'] = pd.get_dummies(df.application_type)['JOINT']\n",
    "X['acc_now_delinq'] = df['acc_now_delinq']\n",
    "X['initial_list_status_f'] = pd.get_dummies(df.initial_list_status)['f']\n",
    "X['initial_list_status_w'] = pd.get_dummies(df.initial_list_status)['w']"
   ]
  },
  {
   "cell_type": "code",
   "execution_count": 5,
   "metadata": {
    "collapsed": false,
    "deletable": true,
    "editable": true
   },
   "outputs": [],
   "source": [
    "for i, col in enumerate(X):\n",
    "    X.iloc[:, i] = X.iloc[:, i].fillna(X.mean(axis=1))"
   ]
  },
  {
   "cell_type": "code",
   "execution_count": 6,
   "metadata": {
    "collapsed": false,
    "deletable": true,
    "editable": true
   },
   "outputs": [
    {
     "data": {
      "text/html": [
       "<div>\n",
       "<table border=\"1\" class=\"dataframe\">\n",
       "  <thead>\n",
       "    <tr style=\"text-align: right;\">\n",
       "      <th></th>\n",
       "      <th>loan_amnt</th>\n",
       "      <th>term60</th>\n",
       "      <th>term36</th>\n",
       "      <th>int_rate</th>\n",
       "      <th>installment</th>\n",
       "      <th>emp_length0</th>\n",
       "      <th>emp_length1</th>\n",
       "      <th>emp_length2</th>\n",
       "      <th>emp_length3</th>\n",
       "      <th>emp_length4</th>\n",
       "      <th>...</th>\n",
       "      <th>delinq_2yrs</th>\n",
       "      <th>inq_last_6mths</th>\n",
       "      <th>open_acc</th>\n",
       "      <th>pub_rec</th>\n",
       "      <th>revol_bal</th>\n",
       "      <th>revol_util</th>\n",
       "      <th>total_acc</th>\n",
       "      <th>acc_now_delinq</th>\n",
       "      <th>initial_list_status_f</th>\n",
       "      <th>initial_list_status_w</th>\n",
       "    </tr>\n",
       "  </thead>\n",
       "  <tbody>\n",
       "    <tr>\n",
       "      <th>0</th>\n",
       "      <td>5000.0</td>\n",
       "      <td>0</td>\n",
       "      <td>1</td>\n",
       "      <td>10.65</td>\n",
       "      <td>162.87</td>\n",
       "      <td>0</td>\n",
       "      <td>0</td>\n",
       "      <td>0</td>\n",
       "      <td>0</td>\n",
       "      <td>0</td>\n",
       "      <td>...</td>\n",
       "      <td>0.0</td>\n",
       "      <td>1.0</td>\n",
       "      <td>3.0</td>\n",
       "      <td>0.0</td>\n",
       "      <td>13648.0</td>\n",
       "      <td>83.7</td>\n",
       "      <td>9.0</td>\n",
       "      <td>0.0</td>\n",
       "      <td>1</td>\n",
       "      <td>0</td>\n",
       "    </tr>\n",
       "    <tr>\n",
       "      <th>1</th>\n",
       "      <td>2500.0</td>\n",
       "      <td>1</td>\n",
       "      <td>0</td>\n",
       "      <td>15.27</td>\n",
       "      <td>59.83</td>\n",
       "      <td>1</td>\n",
       "      <td>0</td>\n",
       "      <td>0</td>\n",
       "      <td>0</td>\n",
       "      <td>0</td>\n",
       "      <td>...</td>\n",
       "      <td>0.0</td>\n",
       "      <td>5.0</td>\n",
       "      <td>3.0</td>\n",
       "      <td>0.0</td>\n",
       "      <td>1687.0</td>\n",
       "      <td>9.4</td>\n",
       "      <td>4.0</td>\n",
       "      <td>0.0</td>\n",
       "      <td>1</td>\n",
       "      <td>0</td>\n",
       "    </tr>\n",
       "    <tr>\n",
       "      <th>2</th>\n",
       "      <td>2400.0</td>\n",
       "      <td>0</td>\n",
       "      <td>1</td>\n",
       "      <td>15.96</td>\n",
       "      <td>84.33</td>\n",
       "      <td>0</td>\n",
       "      <td>0</td>\n",
       "      <td>0</td>\n",
       "      <td>0</td>\n",
       "      <td>0</td>\n",
       "      <td>...</td>\n",
       "      <td>0.0</td>\n",
       "      <td>2.0</td>\n",
       "      <td>2.0</td>\n",
       "      <td>0.0</td>\n",
       "      <td>2956.0</td>\n",
       "      <td>98.5</td>\n",
       "      <td>10.0</td>\n",
       "      <td>0.0</td>\n",
       "      <td>1</td>\n",
       "      <td>0</td>\n",
       "    </tr>\n",
       "    <tr>\n",
       "      <th>3</th>\n",
       "      <td>10000.0</td>\n",
       "      <td>0</td>\n",
       "      <td>1</td>\n",
       "      <td>13.49</td>\n",
       "      <td>339.31</td>\n",
       "      <td>0</td>\n",
       "      <td>0</td>\n",
       "      <td>0</td>\n",
       "      <td>0</td>\n",
       "      <td>0</td>\n",
       "      <td>...</td>\n",
       "      <td>0.0</td>\n",
       "      <td>1.0</td>\n",
       "      <td>10.0</td>\n",
       "      <td>0.0</td>\n",
       "      <td>5598.0</td>\n",
       "      <td>21.0</td>\n",
       "      <td>37.0</td>\n",
       "      <td>0.0</td>\n",
       "      <td>1</td>\n",
       "      <td>0</td>\n",
       "    </tr>\n",
       "    <tr>\n",
       "      <th>4</th>\n",
       "      <td>3000.0</td>\n",
       "      <td>1</td>\n",
       "      <td>0</td>\n",
       "      <td>12.69</td>\n",
       "      <td>67.79</td>\n",
       "      <td>0</td>\n",
       "      <td>1</td>\n",
       "      <td>0</td>\n",
       "      <td>0</td>\n",
       "      <td>0</td>\n",
       "      <td>...</td>\n",
       "      <td>0.0</td>\n",
       "      <td>0.0</td>\n",
       "      <td>15.0</td>\n",
       "      <td>0.0</td>\n",
       "      <td>27783.0</td>\n",
       "      <td>53.9</td>\n",
       "      <td>38.0</td>\n",
       "      <td>0.0</td>\n",
       "      <td>1</td>\n",
       "      <td>0</td>\n",
       "    </tr>\n",
       "  </tbody>\n",
       "</table>\n",
       "<p>5 rows × 51 columns</p>\n",
       "</div>"
      ],
      "text/plain": [
       "   loan_amnt  term60  term36  int_rate  installment  emp_length0  emp_length1  \\\n",
       "0     5000.0       0       1     10.65       162.87            0            0   \n",
       "1     2500.0       1       0     15.27        59.83            1            0   \n",
       "2     2400.0       0       1     15.96        84.33            0            0   \n",
       "3    10000.0       0       1     13.49       339.31            0            0   \n",
       "4     3000.0       1       0     12.69        67.79            0            1   \n",
       "\n",
       "   emp_length2  emp_length3  emp_length4          ...            delinq_2yrs  \\\n",
       "0            0            0            0          ...                    0.0   \n",
       "1            0            0            0          ...                    0.0   \n",
       "2            0            0            0          ...                    0.0   \n",
       "3            0            0            0          ...                    0.0   \n",
       "4            0            0            0          ...                    0.0   \n",
       "\n",
       "   inq_last_6mths  open_acc  pub_rec  revol_bal  revol_util  total_acc  \\\n",
       "0             1.0       3.0      0.0    13648.0        83.7        9.0   \n",
       "1             5.0       3.0      0.0     1687.0         9.4        4.0   \n",
       "2             2.0       2.0      0.0     2956.0        98.5       10.0   \n",
       "3             1.0      10.0      0.0     5598.0        21.0       37.0   \n",
       "4             0.0      15.0      0.0    27783.0        53.9       38.0   \n",
       "\n",
       "   acc_now_delinq  initial_list_status_f  initial_list_status_w  \n",
       "0             0.0                      1                      0  \n",
       "1             0.0                      1                      0  \n",
       "2             0.0                      1                      0  \n",
       "3             0.0                      1                      0  \n",
       "4             0.0                      1                      0  \n",
       "\n",
       "[5 rows x 51 columns]"
      ]
     },
     "execution_count": 6,
     "metadata": {},
     "output_type": "execute_result"
    }
   ],
   "source": [
    "y = X['good_loan']\n",
    "X = X.drop('good_loan', 1)\n",
    "X.head()"
   ]
  },
  {
   "cell_type": "code",
   "execution_count": 7,
   "metadata": {
    "collapsed": false,
    "deletable": true,
    "editable": true
   },
   "outputs": [
    {
     "data": {
      "text/html": [
       "<div>\n",
       "<table border=\"1\" class=\"dataframe\">\n",
       "  <thead>\n",
       "    <tr style=\"text-align: right;\">\n",
       "      <th></th>\n",
       "      <th>loan_amnt</th>\n",
       "      <th>term60</th>\n",
       "      <th>term36</th>\n",
       "      <th>int_rate</th>\n",
       "      <th>installment</th>\n",
       "      <th>emp_length0</th>\n",
       "      <th>emp_length1</th>\n",
       "      <th>emp_length2</th>\n",
       "      <th>emp_length3</th>\n",
       "      <th>emp_length4</th>\n",
       "      <th>...</th>\n",
       "      <th>delinq_2yrs</th>\n",
       "      <th>inq_last_6mths</th>\n",
       "      <th>open_acc</th>\n",
       "      <th>pub_rec</th>\n",
       "      <th>revol_bal</th>\n",
       "      <th>revol_util</th>\n",
       "      <th>total_acc</th>\n",
       "      <th>acc_now_delinq</th>\n",
       "      <th>initial_list_status_f</th>\n",
       "      <th>initial_list_status_w</th>\n",
       "    </tr>\n",
       "  </thead>\n",
       "  <tbody>\n",
       "    <tr>\n",
       "      <th>count</th>\n",
       "      <td>887379.000000</td>\n",
       "      <td>887379.000000</td>\n",
       "      <td>887379.000000</td>\n",
       "      <td>887379.000000</td>\n",
       "      <td>887379.000000</td>\n",
       "      <td>887379.000000</td>\n",
       "      <td>887379.000000</td>\n",
       "      <td>887379.00000</td>\n",
       "      <td>887379.000000</td>\n",
       "      <td>887379.000000</td>\n",
       "      <td>...</td>\n",
       "      <td>887379.000000</td>\n",
       "      <td>887379.000000</td>\n",
       "      <td>887379.000000</td>\n",
       "      <td>887379.000000</td>\n",
       "      <td>8.873790e+05</td>\n",
       "      <td>887379.000000</td>\n",
       "      <td>887379.000000</td>\n",
       "      <td>887379.000000</td>\n",
       "      <td>887379.000000</td>\n",
       "      <td>887379.000000</td>\n",
       "    </tr>\n",
       "    <tr>\n",
       "      <th>mean</th>\n",
       "      <td>14755.264605</td>\n",
       "      <td>0.300045</td>\n",
       "      <td>0.699955</td>\n",
       "      <td>13.246740</td>\n",
       "      <td>436.717127</td>\n",
       "      <td>0.079566</td>\n",
       "      <td>0.064341</td>\n",
       "      <td>0.08888</td>\n",
       "      <td>0.078913</td>\n",
       "      <td>0.059196</td>\n",
       "      <td>...</td>\n",
       "      <td>0.361966</td>\n",
       "      <td>0.742135</td>\n",
       "      <td>11.595626</td>\n",
       "      <td>0.242835</td>\n",
       "      <td>1.692079e+04</td>\n",
       "      <td>56.276813</td>\n",
       "      <td>25.314734</td>\n",
       "      <td>0.052525</td>\n",
       "      <td>0.514829</td>\n",
       "      <td>0.485171</td>\n",
       "    </tr>\n",
       "    <tr>\n",
       "      <th>std</th>\n",
       "      <td>8435.455601</td>\n",
       "      <td>0.458278</td>\n",
       "      <td>0.458278</td>\n",
       "      <td>4.381867</td>\n",
       "      <td>244.186593</td>\n",
       "      <td>0.270620</td>\n",
       "      <td>0.245360</td>\n",
       "      <td>0.28457</td>\n",
       "      <td>0.269604</td>\n",
       "      <td>0.235991</td>\n",
       "      <td>...</td>\n",
       "      <td>11.733857</td>\n",
       "      <td>11.743113</td>\n",
       "      <td>12.812074</td>\n",
       "      <td>11.717086</td>\n",
       "      <td>2.242679e+04</td>\n",
       "      <td>76.043432</td>\n",
       "      <td>16.576577</td>\n",
       "      <td>11.703649</td>\n",
       "      <td>0.499780</td>\n",
       "      <td>0.499780</td>\n",
       "    </tr>\n",
       "    <tr>\n",
       "      <th>min</th>\n",
       "      <td>500.000000</td>\n",
       "      <td>0.000000</td>\n",
       "      <td>0.000000</td>\n",
       "      <td>5.320000</td>\n",
       "      <td>15.670000</td>\n",
       "      <td>0.000000</td>\n",
       "      <td>0.000000</td>\n",
       "      <td>0.00000</td>\n",
       "      <td>0.000000</td>\n",
       "      <td>0.000000</td>\n",
       "      <td>...</td>\n",
       "      <td>0.000000</td>\n",
       "      <td>0.000000</td>\n",
       "      <td>0.000000</td>\n",
       "      <td>0.000000</td>\n",
       "      <td>0.000000e+00</td>\n",
       "      <td>0.000000</td>\n",
       "      <td>1.000000</td>\n",
       "      <td>0.000000</td>\n",
       "      <td>0.000000</td>\n",
       "      <td>0.000000</td>\n",
       "    </tr>\n",
       "    <tr>\n",
       "      <th>25%</th>\n",
       "      <td>8000.000000</td>\n",
       "      <td>0.000000</td>\n",
       "      <td>0.000000</td>\n",
       "      <td>9.990000</td>\n",
       "      <td>260.705000</td>\n",
       "      <td>0.000000</td>\n",
       "      <td>0.000000</td>\n",
       "      <td>0.00000</td>\n",
       "      <td>0.000000</td>\n",
       "      <td>0.000000</td>\n",
       "      <td>...</td>\n",
       "      <td>0.000000</td>\n",
       "      <td>0.000000</td>\n",
       "      <td>8.000000</td>\n",
       "      <td>0.000000</td>\n",
       "      <td>6.443000e+03</td>\n",
       "      <td>37.700000</td>\n",
       "      <td>17.000000</td>\n",
       "      <td>0.000000</td>\n",
       "      <td>0.000000</td>\n",
       "      <td>0.000000</td>\n",
       "    </tr>\n",
       "    <tr>\n",
       "      <th>50%</th>\n",
       "      <td>13000.000000</td>\n",
       "      <td>0.000000</td>\n",
       "      <td>1.000000</td>\n",
       "      <td>12.990000</td>\n",
       "      <td>382.550000</td>\n",
       "      <td>0.000000</td>\n",
       "      <td>0.000000</td>\n",
       "      <td>0.00000</td>\n",
       "      <td>0.000000</td>\n",
       "      <td>0.000000</td>\n",
       "      <td>...</td>\n",
       "      <td>0.000000</td>\n",
       "      <td>0.000000</td>\n",
       "      <td>11.000000</td>\n",
       "      <td>0.000000</td>\n",
       "      <td>1.187500e+04</td>\n",
       "      <td>56.000000</td>\n",
       "      <td>24.000000</td>\n",
       "      <td>0.000000</td>\n",
       "      <td>1.000000</td>\n",
       "      <td>0.000000</td>\n",
       "    </tr>\n",
       "    <tr>\n",
       "      <th>75%</th>\n",
       "      <td>20000.000000</td>\n",
       "      <td>1.000000</td>\n",
       "      <td>1.000000</td>\n",
       "      <td>16.200000</td>\n",
       "      <td>572.600000</td>\n",
       "      <td>0.000000</td>\n",
       "      <td>0.000000</td>\n",
       "      <td>0.00000</td>\n",
       "      <td>0.000000</td>\n",
       "      <td>0.000000</td>\n",
       "      <td>...</td>\n",
       "      <td>0.000000</td>\n",
       "      <td>1.000000</td>\n",
       "      <td>14.000000</td>\n",
       "      <td>0.000000</td>\n",
       "      <td>2.082900e+04</td>\n",
       "      <td>73.600000</td>\n",
       "      <td>32.000000</td>\n",
       "      <td>0.000000</td>\n",
       "      <td>1.000000</td>\n",
       "      <td>1.000000</td>\n",
       "    </tr>\n",
       "    <tr>\n",
       "      <th>max</th>\n",
       "      <td>35000.000000</td>\n",
       "      <td>1.000000</td>\n",
       "      <td>1.000000</td>\n",
       "      <td>28.990000</td>\n",
       "      <td>1445.460000</td>\n",
       "      <td>1.000000</td>\n",
       "      <td>1.000000</td>\n",
       "      <td>1.00000</td>\n",
       "      <td>1.000000</td>\n",
       "      <td>1.000000</td>\n",
       "      <td>...</td>\n",
       "      <td>6781.672000</td>\n",
       "      <td>6781.672000</td>\n",
       "      <td>6781.672000</td>\n",
       "      <td>6781.672000</td>\n",
       "      <td>2.904836e+06</td>\n",
       "      <td>23520.318235</td>\n",
       "      <td>6781.672000</td>\n",
       "      <td>6781.672000</td>\n",
       "      <td>1.000000</td>\n",
       "      <td>1.000000</td>\n",
       "    </tr>\n",
       "  </tbody>\n",
       "</table>\n",
       "<p>8 rows × 51 columns</p>\n",
       "</div>"
      ],
      "text/plain": [
       "           loan_amnt         term60         term36       int_rate  \\\n",
       "count  887379.000000  887379.000000  887379.000000  887379.000000   \n",
       "mean    14755.264605       0.300045       0.699955      13.246740   \n",
       "std      8435.455601       0.458278       0.458278       4.381867   \n",
       "min       500.000000       0.000000       0.000000       5.320000   \n",
       "25%      8000.000000       0.000000       0.000000       9.990000   \n",
       "50%     13000.000000       0.000000       1.000000      12.990000   \n",
       "75%     20000.000000       1.000000       1.000000      16.200000   \n",
       "max     35000.000000       1.000000       1.000000      28.990000   \n",
       "\n",
       "         installment    emp_length0    emp_length1   emp_length2  \\\n",
       "count  887379.000000  887379.000000  887379.000000  887379.00000   \n",
       "mean      436.717127       0.079566       0.064341       0.08888   \n",
       "std       244.186593       0.270620       0.245360       0.28457   \n",
       "min        15.670000       0.000000       0.000000       0.00000   \n",
       "25%       260.705000       0.000000       0.000000       0.00000   \n",
       "50%       382.550000       0.000000       0.000000       0.00000   \n",
       "75%       572.600000       0.000000       0.000000       0.00000   \n",
       "max      1445.460000       1.000000       1.000000       1.00000   \n",
       "\n",
       "         emp_length3    emp_length4          ...              delinq_2yrs  \\\n",
       "count  887379.000000  887379.000000          ...            887379.000000   \n",
       "mean        0.078913       0.059196          ...                 0.361966   \n",
       "std         0.269604       0.235991          ...                11.733857   \n",
       "min         0.000000       0.000000          ...                 0.000000   \n",
       "25%         0.000000       0.000000          ...                 0.000000   \n",
       "50%         0.000000       0.000000          ...                 0.000000   \n",
       "75%         0.000000       0.000000          ...                 0.000000   \n",
       "max         1.000000       1.000000          ...              6781.672000   \n",
       "\n",
       "       inq_last_6mths       open_acc        pub_rec     revol_bal  \\\n",
       "count   887379.000000  887379.000000  887379.000000  8.873790e+05   \n",
       "mean         0.742135      11.595626       0.242835  1.692079e+04   \n",
       "std         11.743113      12.812074      11.717086  2.242679e+04   \n",
       "min          0.000000       0.000000       0.000000  0.000000e+00   \n",
       "25%          0.000000       8.000000       0.000000  6.443000e+03   \n",
       "50%          0.000000      11.000000       0.000000  1.187500e+04   \n",
       "75%          1.000000      14.000000       0.000000  2.082900e+04   \n",
       "max       6781.672000    6781.672000    6781.672000  2.904836e+06   \n",
       "\n",
       "          revol_util      total_acc  acc_now_delinq  initial_list_status_f  \\\n",
       "count  887379.000000  887379.000000   887379.000000          887379.000000   \n",
       "mean       56.276813      25.314734        0.052525               0.514829   \n",
       "std        76.043432      16.576577       11.703649               0.499780   \n",
       "min         0.000000       1.000000        0.000000               0.000000   \n",
       "25%        37.700000      17.000000        0.000000               0.000000   \n",
       "50%        56.000000      24.000000        0.000000               1.000000   \n",
       "75%        73.600000      32.000000        0.000000               1.000000   \n",
       "max     23520.318235    6781.672000     6781.672000               1.000000   \n",
       "\n",
       "       initial_list_status_w  \n",
       "count          887379.000000  \n",
       "mean                0.485171  \n",
       "std                 0.499780  \n",
       "min                 0.000000  \n",
       "25%                 0.000000  \n",
       "50%                 0.000000  \n",
       "75%                 1.000000  \n",
       "max                 1.000000  \n",
       "\n",
       "[8 rows x 51 columns]"
      ]
     },
     "execution_count": 7,
     "metadata": {},
     "output_type": "execute_result"
    }
   ],
   "source": [
    "X.describe()"
   ]
  },
  {
   "cell_type": "code",
   "execution_count": 8,
   "metadata": {
    "collapsed": false
   },
   "outputs": [
    {
     "data": {
      "text/plain": [
       "<matplotlib.axes._subplots.AxesSubplot at 0x7fe4e1087190>"
      ]
     },
     "execution_count": 8,
     "metadata": {},
     "output_type": "execute_result"
    },
    {
     "data": {
      "image/png": "[encoded data removed]",
      "text/plain": [
       "<matplotlib.figure.Figure at 0x7fe4e102a790>"
      ]
     },
     "metadata": {},
     "output_type": "display_data"
    }
   ],
   "source": [
    "X.loan_amnt.hist()"
   ]
  },
  {
   "cell_type": "code",
   "execution_count": 9,
   "metadata": {
    "collapsed": false
   },
   "outputs": [
    {
     "data": {
      "text/plain": [
       "<matplotlib.axes._subplots.AxesSubplot at 0x7fe4e0fd1cd0>"
      ]
     },
     "execution_count": 9,
     "metadata": {},
     "output_type": "execute_result"
    },
    {
     "data": {
      "image/png": "[encoded data removed]",
      "text/plain": [
       "<matplotlib.figure.Figure at 0x7fe4e0f41590>"
      ]
     },
     "metadata": {},
     "output_type": "display_data"
    }
   ],
   "source": [
    "X.int_rate.hist()"
   ]
  },
  {
   "cell_type": "code",
   "execution_count": 10,
   "metadata": {
    "collapsed": false
   },
   "outputs": [
    {
     "data": {
      "text/plain": [
       "<matplotlib.axes._subplots.AxesSubplot at 0x7fe4e0f0b490>"
      ]
     },
     "execution_count": 10,
     "metadata": {},
     "output_type": "execute_result"
    },
    {
     "data": {
      "image/png": "[encoded data removed]",
      "text/plain": [
       "<matplotlib.figure.Figure at 0x7fe4e0e2cfd0>"
      ]
     },
     "metadata": {},
     "output_type": "display_data"
    }
   ],
   "source": [
    "X.installment.hist()"
   ]
  },
  {
   "cell_type": "markdown",
   "metadata": {},
   "source": [
    "# Good Loan vs Bad Loan"
   ]
  },
  {
   "cell_type": "code",
   "execution_count": 11,
   "metadata": {
    "collapsed": false
   },
   "outputs": [
    {
     "data": {
      "text/plain": [
       "count    887379.000000\n",
       "mean          0.912239\n",
       "std           0.282947\n",
       "min           0.000000\n",
       "25%           1.000000\n",
       "50%           1.000000\n",
       "75%           1.000000\n",
       "max           1.000000\n",
       "Name: good_loan, dtype: float64"
      ]
     },
     "execution_count": 11,
     "metadata": {},
     "output_type": "execute_result"
    }
   ],
   "source": [
    "y.describe()"
   ]
  },
  {
   "cell_type": "code",
   "execution_count": 12,
   "metadata": {
    "collapsed": false
   },
   "outputs": [
    {
     "data": {
      "text/plain": [
       "<matplotlib.axes._subplots.AxesSubplot at 0x7fe4e0e86750>"
      ]
     },
     "execution_count": 12,
     "metadata": {},
     "output_type": "execute_result"
    },
    {
     "data": {
      "image/png": "[encoded data removed]",
      "text/plain": [
       "<matplotlib.figure.Figure at 0x7fe4e0df4350>"
      ]
     },
     "metadata": {},
     "output_type": "display_data"
    }
   ],
   "source": [
    "y.hist()"
   ]
  },
  {
   "cell_type": "code",
   "execution_count": 13,
   "metadata": {
    "collapsed": false,
    "deletable": true,
    "editable": true
   },
   "outputs": [
    {
     "name": "stderr",
     "output_type": "stream",
     "text": [
      "/usr/local/lib/python2.7/dist-packages/sklearn/cross_validation.py:44: DeprecationWarning: This module was deprecated in version 0.18 in favor of the model_selection module into which all the refactored classes and functions are moved. Also note that the interface of the new CV iterators are different from that of this module. This module will be removed in 0.20.\n",
      "  \"This module will be removed in 0.20.\", DeprecationWarning)\n"
     ]
    }
   ],
   "source": [
    "from sklearn.cross_validation import train_test_split\n",
    "import numpy as np\n",
    "np.random.seed(100)\n",
    "X_train, X_test, y_train, y_test = train_test_split(X, y, test_size=.2)"
   ]
  },
  {
   "cell_type": "code",
   "execution_count": 14,
   "metadata": {
    "collapsed": false,
    "deletable": true,
    "editable": true
   },
   "outputs": [
    {
     "name": "stdout",
     "output_type": "stream",
     "text": [
      "('R^2:', 0.040000000000000001)\n"
     ]
    }
   ],
   "source": [
    "from sklearn.linear_model import LinearRegression\n",
    "model = LinearRegression()\n",
    "model.fit(X_train, y_train)\n",
    "print (\"R^2:\", model.score(X_test, y_test).round(2))"
   ]
  },
  {
   "cell_type": "code",
   "execution_count": 15,
   "metadata": {
    "collapsed": false,
    "deletable": true,
    "editable": true
   },
   "outputs": [],
   "source": [
    "#from sklearn.tree import DecisionTreeRegressor\n",
    "#model = DecisionTreeRegressor()\n",
    "#model.fit(X_train, y_train)\n",
    "#print (\"R^2:\", model.score(X_test, y_test).round(2))"
   ]
  },
  {
   "cell_type": "code",
   "execution_count": 16,
   "metadata": {
    "collapsed": false,
    "deletable": true,
    "editable": true
   },
   "outputs": [
    {
     "name": "stdout",
     "output_type": "stream",
     "text": [
      "('R^2:', -0.029999999999999999)\n"
     ]
    }
   ],
   "source": [
    "from sklearn.ensemble import RandomForestRegressor\n",
    "model = RandomForestRegressor(random_state=42)\n",
    "model.fit(X_train, y_train)\n",
    "print (\"R^2:\", model.score(X_test, y_test).round(2))"
   ]
  },
  {
   "cell_type": "code",
   "execution_count": null,
   "metadata": {
    "collapsed": true
   },
   "outputs": [],
   "source": []
  },
  {
   "cell_type": "code",
   "execution_count": 17,
   "metadata": {
    "collapsed": false,
    "deletable": true,
    "editable": true
   },
   "outputs": [
    {
     "data": {
      "text/plain": [
       "array([  5.09054382e-02,   3.10440034e-03,   3.15828008e-03,\n",
       "         1.04093395e-01,   6.98622952e-02,   7.76051753e-03,\n",
       "         7.09532129e-03,   7.38497968e-03,   7.23023844e-03,\n",
       "         6.58281329e-03,   6.88897602e-03,   6.48913610e-03,\n",
       "         6.11872458e-03,   5.91518943e-03,   5.54382084e-03,\n",
       "         9.26884267e-03,   5.42798143e-03,   7.65260007e-03,\n",
       "         5.85543882e-03,   6.69721251e-03,   4.26564717e-05,\n",
       "         2.49916897e-04,   8.39559167e-02,   8.15817423e-03,\n",
       "         7.99467573e-03,   9.44336830e-03,   7.88014741e-03,\n",
       "         2.02810221e-03,   3.56966209e-03,   5.05207468e-03,\n",
       "         1.15133018e-03,   8.19841069e-03,   5.17582116e-03,\n",
       "         3.17935066e-03,   2.50201634e-03,   1.99001691e-03,\n",
       "         1.54255433e-03,   1.58461343e-03,   4.31486549e-04,\n",
       "         4.43730029e-04,   1.08803834e-01,   1.69590699e-02,\n",
       "         2.80009969e-02,   5.61124318e-02,   1.12698800e-02,\n",
       "         1.06932424e-01,   1.00696627e-01,   7.28197037e-02,\n",
       "         1.36452457e-03,   4.63608225e-03,   4.79480000e-03])"
      ]
     },
     "execution_count": 17,
     "metadata": {},
     "output_type": "execute_result"
    }
   ],
   "source": [
    "model.feature_importances_"
   ]
  },
  {
   "cell_type": "code",
   "execution_count": 18,
   "metadata": {
    "collapsed": false,
    "deletable": true,
    "editable": true
   },
   "outputs": [
    {
     "data": {
      "image/png": "[encoded data removed]",
      "text/plain": [
       "<matplotlib.figure.Figure at 0x7fe4dee25790>"
      ]
     },
     "metadata": {},
     "output_type": "display_data"
    }
   ],
   "source": [
    "feature_importances = pd.Series(model.feature_importances_, index=X.columns)\n",
    "feature_importances.sort_values(inplace=True)\n",
    "feature_importances.plot(kind=\"barh\", figsize=(14,12));"
   ]
  },
  {
   "cell_type": "code",
   "execution_count": 19,
   "metadata": {
    "collapsed": false,
    "deletable": true,
    "editable": true
   },
   "outputs": [
    {
     "name": "stderr",
     "output_type": "stream",
     "text": [
      "/usr/local/lib/python2.7/dist-packages/sklearn/grid_search.py:43: DeprecationWarning: This module was deprecated in version 0.18 in favor of the model_selection module into which all the refactored classes and functions are moved. This module will be removed in 0.20.\n",
      "  DeprecationWarning)\n"
     ]
    }
   ],
   "source": [
    "from sklearn.ensemble import RandomForestClassifier\n",
    "from sklearn.ensemble import RandomForestRegressor\n",
    "from sklearn.grid_search import GridSearchCV\n",
    "from sklearn.cross_validation import train_test_split\n",
    "from sklearn.metrics import roc_auc_score\n",
    "from sklearn.metrics import classification_report\n",
    "from sklearn.metrics import confusion_matrix\n",
    "from sklearn.metrics import accuracy_score\n",
    "from sklearn.metrics import roc_curve\n",
    "\n",
    "\n",
    "### Grid Search\n",
    "#n_estimators = [100, 300, 500, 1000, 2000]\n",
    "#max_features = ['auto', 'sqrt','log2']\n",
    "#max_leaf_nodes = [5000, 10000, 25000]\n",
    "#min_samples_split = [3,5,7]\n",
    "#criterion = ['entropy']\n",
    "#bootstrap = [True]\n",
    "#oob_score = [True]\n",
    "#max_depth = [50, 75, 100]\n",
    "#min_samples_leaf = [3, 5, 7]\n",
    "\n",
    "#rfc = RandomForestClassifier(n_jobs=-1)\n",
    "\n",
    "#estimator = GridSearchCV(rfc,\n",
    "#                         dict(n_estimators=n_estimators,\n",
    "#                              max_features=max_features,\n",
    "#                              max_leaf_nodes=max_leaf_nodes,\n",
    "#                              min_samples_split=min_samples_split,\n",
    "#                              criterion=criterion,\n",
    "#                              max_depth=max_depth,\n",
    "#                              oob_score=oob_score,\n",
    "#                              min_samples_leaf=min_samples_leaf\n",
    "#                              ), cv=10, n_jobs=-1)\n",
    "\n",
    "\n",
    "\n"
   ]
  },
  {
   "cell_type": "code",
   "execution_count": 20,
   "metadata": {
    "collapsed": false
   },
   "outputs": [],
   "source": [
    "#estimator.fit(X_train, y_train)"
   ]
  },
  {
   "cell_type": "code",
   "execution_count": 21,
   "metadata": {
    "collapsed": true
   },
   "outputs": [],
   "source": [
    "#best_rfc = estimator.best_estimator_"
   ]
  },
  {
   "cell_type": "code",
   "execution_count": 22,
   "metadata": {
    "collapsed": false,
    "deletable": true,
    "editable": true
   },
   "outputs": [],
   "source": [
    "#roc = roc_auc_score(y_test, best_rfc.predict_proba(X_test)[:,1])\n",
    "#print (\"AUC Score: \", roc)"
   ]
  },
  {
   "cell_type": "code",
   "execution_count": 23,
   "metadata": {
    "collapsed": false,
    "deletable": true,
    "editable": true
   },
   "outputs": [],
   "source": [
    "#results = []\n",
    "#max_features_options = ['auto', 'sqrt','log2']\n",
    "\n",
    "#for max_features in max_features_options:\n",
    "#    model = RandomForestRegressor(n_estimators=100, oob_score=True, n_jobs=-1, random_state=42, max_features=max_features)\n",
    "#    model.fit(X, y)\n",
    "#    print (max_features, \"option\")\n",
    "#    roc = roc_auc_score(y, model.oob_prediction_)\n",
    "#    print (\"C-stat: \", roc)\n",
    "#    results.append(roc)\n",
    "#    print (\"\")\n",
    "    \n",
    "#pd.Series(results, max_features_options).plot(kind=\"barh\", xlim=(.85,.88));"
   ]
  },
  {
   "cell_type": "code",
   "execution_count": 24,
   "metadata": {
    "collapsed": false,
    "deletable": true,
    "editable": true
   },
   "outputs": [],
   "source": [
    "#results = []\n",
    "#min_samples_leaf_options = [10, 15, 20, 30, 50]\n",
    "\n",
    "#for min_samples in min_samples_leaf_options:\n",
    "#    model = RandomForestRegressor(n_estimators=100, \n",
    "#                                  oob_score=True, \n",
    "#                                  n_jobs=-1, \n",
    "#                                  random_state=42, \n",
    "#                                  max_features=\"auto\", \n",
    "#                                  min_samples_leaf=min_samples)\n",
    "#    model.fit(X, y)\n",
    "#    print (min_samples, \"min samples\")\n",
    "#    roc = roc_auc_score(y, model.oob_prediction_)\n",
    "#    print (\"C-stat: \", roc)\n",
    "#    results.append(roc)\n",
    "#    print (\"\")\n",
    "    \n",
    "#pd.Series(results, min_samples_leaf_options).plot();"
   ]
  },
  {
   "cell_type": "code",
   "execution_count": 25,
   "metadata": {
    "collapsed": false
   },
   "outputs": [
    {
     "data": {
      "text/plain": [
       "RandomForestClassifier(bootstrap=True, class_weight=None, criterion='entropy',\n",
       "            max_depth=100, max_features='auto', max_leaf_nodes=10000,\n",
       "            min_impurity_split=1e-07, min_samples_leaf=30,\n",
       "            min_samples_split=3, min_weight_fraction_leaf=0.0,\n",
       "            n_estimators=2000, n_jobs=-1, oob_score=False,\n",
       "            random_state=None, verbose=0, warm_start=False)"
      ]
     },
     "execution_count": 25,
     "metadata": {},
     "output_type": "execute_result"
    }
   ],
   "source": [
    "model = RandomForestClassifier(bootstrap=True, class_weight=None, criterion='entropy',\n",
    "            max_depth=100, max_features=\"auto\", max_leaf_nodes=10000, min_samples_leaf=30,\n",
    "            min_samples_split=3, min_weight_fraction_leaf=0.0,\n",
    "            n_estimators=2000, n_jobs=-1, oob_score=False,\n",
    "            random_state=None, verbose=0, warm_start=False)\n",
    "model.fit(X, y)"
   ]
  },
  {
   "cell_type": "code",
   "execution_count": 26,
   "metadata": {
    "collapsed": false
   },
   "outputs": [
    {
     "name": "stdout",
     "output_type": "stream",
     "text": [
      "('AUC Score: ', 0.85573065594343978)\n"
     ]
    }
   ],
   "source": [
    "roc = roc_auc_score(y_test, model.predict_proba(X_test)[:,1])\n",
    "print (\"AUC Score: \", roc)"
   ]
  },
  {
   "cell_type": "code",
   "execution_count": null,
   "metadata": {
    "collapsed": true
   },
   "outputs": [],
   "source": []
  }
 ],
 "metadata": {
  "kernelspec": {
   "display_name": "Python 2",
   "language": "python",
   "name": "python2"
  },
  "language_info": {
   "codemirror_mode": {
    "name": "ipython",
    "version": 2
   },
   "file_extension": ".py",
   "mimetype": "text/x-python",
   "name": "python",
   "nbconvert_exporter": "python",
   "pygments_lexer": "ipython2",
   "version": "2.7.12"
  }
 },
 "nbformat": 4,
 "nbformat_minor": 2
}
