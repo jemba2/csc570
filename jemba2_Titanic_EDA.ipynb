{
 "cells": [
  {
   "cell_type": "code",
   "execution_count": 50,
   "metadata": {
    "collapsed": false
   },
   "outputs": [
    {
     "name": "stdout",
     "output_type": "stream",
     "text": [
      "Populating the interactive namespace from numpy and matplotlib\n"
     ]
    }
   ],
   "source": [
    "import pandas as pd\n",
    "%pylab inline"
   ]
  },
  {
   "cell_type": "code",
   "execution_count": 2,
   "metadata": {
    "collapsed": true
   },
   "outputs": [],
   "source": [
    "df = pd.read_csv(\"train.csv\")"
   ]
  },
  {
   "cell_type": "markdown",
   "metadata": {},
   "source": [
    "### EDA\n",
    "\n",
    "Learn about the data!\n",
    "<li>Is the variable categorical or continuous\n",
    "<li>Are there missing values?\n",
    "<li>Min, Max, Mean, and Standard Deviation of the continuous variables.\n",
    "<li>Histograms describing the distribution of the variable.\n",
    "<li>EDA should be completed for these fields:  'PassengerId', 'Survived', 'Pclass', 'Sex', 'Age', 'SibSp', 'Parch', 'Ticket', 'Fare', 'Cabin', and 'Embarked'"
   ]
  },
  {
   "cell_type": "code",
   "execution_count": 7,
   "metadata": {
    "collapsed": false
   },
   "outputs": [
    {
     "data": {
      "text/plain": [
       "['PassengerId',\n",
       " 'Survived',\n",
       " 'Pclass',\n",
       " 'Sex',\n",
       " 'Age',\n",
       " 'SibSp',\n",
       " 'Parch',\n",
       " 'Ticket',\n",
       " 'Fare',\n",
       " 'Cabin',\n",
       " 'Embarked']"
      ]
     },
     "execution_count": 7,
     "metadata": {},
     "output_type": "execute_result"
    }
   ],
   "source": [
    "dfAttrib = list(df)\n",
    "dfAttrib.remove('Name')\n",
    "dfAttrib"
   ]
  },
  {
   "cell_type": "markdown",
   "metadata": {},
   "source": [
    "### Exploration of the dataset values\n",
    "\n",
    "##### Lets loop through the attributes of the dataset and perform value_counts() to get some context of the data values"
   ]
  },
  {
   "cell_type": "code",
   "execution_count": 58,
   "metadata": {
    "collapsed": false
   },
   "outputs": [
    {
     "name": "stdout",
     "output_type": "stream",
     "text": [
      "PassengerId: \n",
      "\n",
      "891    1\n",
      "293    1\n",
      "304    1\n",
      "303    1\n",
      "302    1\n",
      "301    1\n",
      "300    1\n",
      "299    1\n",
      "298    1\n",
      "297    1\n",
      "296    1\n",
      "295    1\n",
      "294    1\n",
      "292    1\n",
      "306    1\n",
      "291    1\n",
      "290    1\n",
      "289    1\n",
      "288    1\n",
      "287    1\n",
      "286    1\n",
      "285    1\n",
      "284    1\n",
      "283    1\n",
      "282    1\n",
      "281    1\n",
      "305    1\n",
      "307    1\n",
      "279    1\n",
      "321    1\n",
      "      ..\n",
      "561    1\n",
      "560    1\n",
      "584    1\n",
      "585    1\n",
      "586    1\n",
      "587    1\n",
      "610    1\n",
      "609    1\n",
      "608    1\n",
      "607    1\n",
      "606    1\n",
      "605    1\n",
      "604    1\n",
      "603    1\n",
      "602    1\n",
      "601    1\n",
      "600    1\n",
      "599    1\n",
      "598    1\n",
      "597    1\n",
      "596    1\n",
      "595    1\n",
      "594    1\n",
      "593    1\n",
      "592    1\n",
      "591    1\n",
      "590    1\n",
      "589    1\n",
      "588    1\n",
      "1      1\n",
      "Name: PassengerId, dtype: int64\n",
      "\n",
      "\n",
      "Survived: \n",
      "\n",
      "0    549\n",
      "1    342\n",
      "Name: Survived, dtype: int64\n",
      "\n",
      "\n",
      "Pclass: \n",
      "\n",
      "3    491\n",
      "1    216\n",
      "2    184\n",
      "Name: Pclass, dtype: int64\n",
      "\n",
      "\n",
      "Sex: \n",
      "\n",
      "male      577\n",
      "female    314\n",
      "Name: Sex, dtype: int64\n",
      "\n",
      "\n",
      "Age: \n",
      "\n",
      "24.00    30\n",
      "22.00    27\n",
      "18.00    26\n",
      "19.00    25\n",
      "28.00    25\n",
      "30.00    25\n",
      "21.00    24\n",
      "25.00    23\n",
      "36.00    22\n",
      "29.00    20\n",
      "27.00    18\n",
      "35.00    18\n",
      "26.00    18\n",
      "32.00    18\n",
      "31.00    17\n",
      "16.00    17\n",
      "23.00    15\n",
      "20.00    15\n",
      "34.00    15\n",
      "33.00    15\n",
      "39.00    14\n",
      "17.00    13\n",
      "40.00    13\n",
      "42.00    13\n",
      "45.00    12\n",
      "38.00    11\n",
      "50.00    10\n",
      "2.00     10\n",
      "4.00     10\n",
      "48.00     9\n",
      "         ..\n",
      "0.75      2\n",
      "45.50     2\n",
      "64.00     2\n",
      "30.50     2\n",
      "0.83      2\n",
      "32.50     2\n",
      "40.50     2\n",
      "71.00     2\n",
      "28.50     2\n",
      "63.00     2\n",
      "59.00     2\n",
      "57.00     2\n",
      "55.00     2\n",
      "70.00     2\n",
      "55.50     1\n",
      "24.50     1\n",
      "34.50     1\n",
      "0.92      1\n",
      "36.50     1\n",
      "0.42      1\n",
      "23.50     1\n",
      "12.00     1\n",
      "20.50     1\n",
      "14.50     1\n",
      "80.00     1\n",
      "74.00     1\n",
      "70.50     1\n",
      "66.00     1\n",
      "53.00     1\n",
      "0.67      1\n",
      "Name: Age, dtype: int64\n",
      "\n",
      "\n",
      "SibSp: \n",
      "\n",
      "0    608\n",
      "1    209\n",
      "2     28\n",
      "4     18\n",
      "3     16\n",
      "8      7\n",
      "5      5\n",
      "Name: SibSp, dtype: int64\n",
      "\n",
      "\n",
      "Parch: \n",
      "\n",
      "0    678\n",
      "1    118\n",
      "2     80\n",
      "5      5\n",
      "3      5\n",
      "4      4\n",
      "6      1\n",
      "Name: Parch, dtype: int64\n",
      "\n",
      "\n",
      "Ticket: \n",
      "\n",
      "1601                7\n",
      "CA. 2343            7\n",
      "347082              7\n",
      "347088              6\n",
      "3101295             6\n",
      "CA 2144             6\n",
      "382652              5\n",
      "S.O.C. 14879        5\n",
      "349909              4\n",
      "347077              4\n",
      "17421               4\n",
      "4133                4\n",
      "LINE                4\n",
      "PC 17757            4\n",
      "113760              4\n",
      "W./C. 6608          4\n",
      "2666                4\n",
      "113781              4\n",
      "19950               4\n",
      "PC 17582            3\n",
      "SC/Paris 2123       3\n",
      "24160               3\n",
      "248727              3\n",
      "110413              3\n",
      "PC 17755            3\n",
      "13502               3\n",
      "239853              3\n",
      "29106               3\n",
      "363291              3\n",
      "F.C.C. 13529        3\n",
      "                   ..\n",
      "315037              1\n",
      "370377              1\n",
      "11752               1\n",
      "345777              1\n",
      "312991              1\n",
      "2686                1\n",
      "236852              1\n",
      "SOTON/O2 3101272    1\n",
      "27849               1\n",
      "248740              1\n",
      "244310              1\n",
      "349236              1\n",
      "330932              1\n",
      "11769               1\n",
      "349257              1\n",
      "C.A. 24580          1\n",
      "364499              1\n",
      "F.C.C. 13528        1\n",
      "3101281             1\n",
      "237798              1\n",
      "367232              1\n",
      "324669              1\n",
      "382649              1\n",
      "693                 1\n",
      "345783              1\n",
      "349227              1\n",
      "SW/PP 751           1\n",
      "347071              1\n",
      "349239              1\n",
      "2648                1\n",
      "Name: Ticket, dtype: int64\n",
      "\n",
      "\n",
      "Fare: \n",
      "\n",
      "8.0500      43\n",
      "13.0000     42\n",
      "7.8958      38\n",
      "7.7500      34\n",
      "26.0000     31\n",
      "10.5000     24\n",
      "7.9250      18\n",
      "7.7750      16\n",
      "26.5500     15\n",
      "7.2292      15\n",
      "0.0000      15\n",
      "7.2500      13\n",
      "7.8542      13\n",
      "8.6625      13\n",
      "7.2250      12\n",
      "9.5000       9\n",
      "16.1000      9\n",
      "24.1500      8\n",
      "15.5000      8\n",
      "56.4958      7\n",
      "14.5000      7\n",
      "7.0500       7\n",
      "52.0000      7\n",
      "31.2750      7\n",
      "69.5500      7\n",
      "14.4542      7\n",
      "7.7958       6\n",
      "26.2500      6\n",
      "30.0000      6\n",
      "27.9000      6\n",
      "            ..\n",
      "211.5000     1\n",
      "12.2750      1\n",
      "8.6542       1\n",
      "6.9500       1\n",
      "22.0250      1\n",
      "7.1417       1\n",
      "10.1708      1\n",
      "17.4000      1\n",
      "8.3000       1\n",
      "16.0000      1\n",
      "10.5167      1\n",
      "15.0458      1\n",
      "50.4958      1\n",
      "8.4042       1\n",
      "26.2833      1\n",
      "12.6500      1\n",
      "8.7125       1\n",
      "22.5250      1\n",
      "15.7500      1\n",
      "9.2167       1\n",
      "21.6792      1\n",
      "14.1083      1\n",
      "15.1000      1\n",
      "7.3125       1\n",
      "8.1125       1\n",
      "13.8583      1\n",
      "34.6542      1\n",
      "12.0000      1\n",
      "32.3208      1\n",
      "28.5000      1\n",
      "Name: Fare, dtype: int64\n",
      "\n",
      "\n",
      "Cabin: \n",
      "\n",
      "G6             4\n",
      "B96 B98        4\n",
      "C23 C25 C27    4\n",
      "E101           3\n",
      "F2             3\n",
      "D              3\n",
      "C22 C26        3\n",
      "F33            3\n",
      "D33            2\n",
      "C2             2\n",
      "C78            2\n",
      "F G73          2\n",
      "D20            2\n",
      "C93            2\n",
      "C52            2\n",
      "C123           2\n",
      "B28            2\n",
      "E33            2\n",
      "B20            2\n",
      "B22            2\n",
      "E67            2\n",
      "C126           2\n",
      "E24            2\n",
      "B5             2\n",
      "C92            2\n",
      "D35            2\n",
      "B49            2\n",
      "E25            2\n",
      "B35            2\n",
      "D17            2\n",
      "              ..\n",
      "C70            1\n",
      "B38            1\n",
      "C54            1\n",
      "A10            1\n",
      "F38            1\n",
      "E36            1\n",
      "A6             1\n",
      "C104           1\n",
      "T              1\n",
      "A20            1\n",
      "B82 B84        1\n",
      "B3             1\n",
      "F G63          1\n",
      "C32            1\n",
      "A34            1\n",
      "C110           1\n",
      "D56            1\n",
      "B4             1\n",
      "B19            1\n",
      "B69            1\n",
      "A14            1\n",
      "A19            1\n",
      "E50            1\n",
      "C7             1\n",
      "B42            1\n",
      "D10 D12        1\n",
      "A24            1\n",
      "A16            1\n",
      "C148           1\n",
      "D47            1\n",
      "Name: Cabin, dtype: int64\n",
      "\n",
      "\n",
      "Embarked: \n",
      "\n",
      "S    644\n",
      "C    168\n",
      "Q     77\n",
      "Name: Embarked, dtype: int64\n",
      "\n",
      "\n"
     ]
    }
   ],
   "source": [
    "x=0\n",
    "for i in dfAttrib:   \n",
    "    print(dfAttrib[x] + \": \\n\")\n",
    "    print(df[i].value_counts())\n",
    "    print(\"\\n\")\n",
    "    x=x+1"
   ]
  },
  {
   "cell_type": "markdown",
   "metadata": {},
   "source": [
    "\n",
    "### Categorical Attributes\n",
    "\n",
    "<li> PassengerId\n",
    "<li> Survived\n",
    "<li> Pclass\n",
    "<li> Sex\n",
    "<li> SibSp\n",
    "<li> Parch\n",
    "<li> Embarked\n",
    "<li> Ticket\n",
    "<li> Cabin\n",
    "\n",
    "\n",
    "### Continuous\n",
    "\n",
    "\n",
    "<li> Age\n",
    "<li> Fare\n",
    "\n",
    "\n",
    "\n"
   ]
  },
  {
   "cell_type": "markdown",
   "metadata": {},
   "source": [
    "### More Exploration of the dataset values\n",
    "\n",
    "##### Lets loop through the attributes of the dataset and look for missing values"
   ]
  },
  {
   "cell_type": "code",
   "execution_count": 68,
   "metadata": {
    "collapsed": false,
    "scrolled": true
   },
   "outputs": [
    {
     "name": "stdout",
     "output_type": "stream",
     "text": [
      "PassengerId: \n",
      "\n",
      "Empty DataFrame\n",
      "Columns: [PassengerId, Survived, Pclass, Name, Sex, Age, SibSp, Parch, Ticket, Fare, Cabin, Embarked]\n",
      "Index: []\n",
      "\n",
      "\n",
      "Survived: \n",
      "\n",
      "Empty DataFrame\n",
      "Columns: [PassengerId, Survived, Pclass, Name, Sex, Age, SibSp, Parch, Ticket, Fare, Cabin, Embarked]\n",
      "Index: []\n",
      "\n",
      "\n",
      "Pclass: \n",
      "\n",
      "Empty DataFrame\n",
      "Columns: [PassengerId, Survived, Pclass, Name, Sex, Age, SibSp, Parch, Ticket, Fare, Cabin, Embarked]\n",
      "Index: []\n",
      "\n",
      "\n",
      "Sex: \n",
      "\n",
      "Empty DataFrame\n",
      "Columns: [PassengerId, Survived, Pclass, Name, Sex, Age, SibSp, Parch, Ticket, Fare, Cabin, Embarked]\n",
      "Index: []\n",
      "\n",
      "\n",
      "Age: \n",
      "\n",
      "     PassengerId  Survived  Pclass  \\\n",
      "5              6         0       3   \n",
      "17            18         1       2   \n",
      "19            20         1       3   \n",
      "26            27         0       3   \n",
      "28            29         1       3   \n",
      "29            30         0       3   \n",
      "31            32         1       1   \n",
      "32            33         1       3   \n",
      "36            37         1       3   \n",
      "42            43         0       3   \n",
      "45            46         0       3   \n",
      "46            47         0       3   \n",
      "47            48         1       3   \n",
      "48            49         0       3   \n",
      "55            56         1       1   \n",
      "64            65         0       1   \n",
      "65            66         1       3   \n",
      "76            77         0       3   \n",
      "77            78         0       3   \n",
      "82            83         1       3   \n",
      "87            88         0       3   \n",
      "95            96         0       3   \n",
      "101          102         0       3   \n",
      "107          108         1       3   \n",
      "109          110         1       3   \n",
      "121          122         0       3   \n",
      "126          127         0       3   \n",
      "128          129         1       3   \n",
      "140          141         0       3   \n",
      "154          155         0       3   \n",
      "..           ...       ...     ...   \n",
      "718          719         0       3   \n",
      "727          728         1       3   \n",
      "732          733         0       2   \n",
      "738          739         0       3   \n",
      "739          740         0       3   \n",
      "740          741         1       1   \n",
      "760          761         0       3   \n",
      "766          767         0       1   \n",
      "768          769         0       3   \n",
      "773          774         0       3   \n",
      "776          777         0       3   \n",
      "778          779         0       3   \n",
      "783          784         0       3   \n",
      "790          791         0       3   \n",
      "792          793         0       3   \n",
      "793          794         0       1   \n",
      "815          816         0       1   \n",
      "825          826         0       3   \n",
      "826          827         0       3   \n",
      "828          829         1       3   \n",
      "832          833         0       3   \n",
      "837          838         0       3   \n",
      "839          840         1       1   \n",
      "846          847         0       3   \n",
      "849          850         1       1   \n",
      "859          860         0       3   \n",
      "863          864         0       3   \n",
      "868          869         0       3   \n",
      "878          879         0       3   \n",
      "888          889         0       3   \n",
      "\n",
      "                                               Name     Sex  Age  SibSp  \\\n",
      "5                                  Moran, Mr. James    male  NaN      0   \n",
      "17                     Williams, Mr. Charles Eugene    male  NaN      0   \n",
      "19                          Masselmani, Mrs. Fatima  female  NaN      0   \n",
      "26                          Emir, Mr. Farred Chehab    male  NaN      0   \n",
      "28                    O'Dwyer, Miss. Ellen \"Nellie\"  female  NaN      0   \n",
      "29                              Todoroff, Mr. Lalio    male  NaN      0   \n",
      "31   Spencer, Mrs. William Augustus (Marie Eugenie)  female  NaN      1   \n",
      "32                         Glynn, Miss. Mary Agatha  female  NaN      0   \n",
      "36                                 Mamee, Mr. Hanna    male  NaN      0   \n",
      "42                              Kraeff, Mr. Theodor    male  NaN      0   \n",
      "45                         Rogers, Mr. William John    male  NaN      0   \n",
      "46                                Lennon, Mr. Denis    male  NaN      1   \n",
      "47                        O'Driscoll, Miss. Bridget  female  NaN      0   \n",
      "48                              Samaan, Mr. Youssef    male  NaN      2   \n",
      "55                                Woolner, Mr. Hugh    male  NaN      0   \n",
      "64                            Stewart, Mr. Albert A    male  NaN      0   \n",
      "65                         Moubarek, Master. Gerios    male  NaN      1   \n",
      "76                                Staneff, Mr. Ivan    male  NaN      0   \n",
      "77                         Moutal, Mr. Rahamin Haim    male  NaN      0   \n",
      "82                   McDermott, Miss. Brigdet Delia  female  NaN      0   \n",
      "87                    Slocovski, Mr. Selman Francis    male  NaN      0   \n",
      "95                      Shorney, Mr. Charles Joseph    male  NaN      0   \n",
      "101                Petroff, Mr. Pastcho (\"Pentcho\")    male  NaN      0   \n",
      "107                          Moss, Mr. Albert Johan    male  NaN      0   \n",
      "109                             Moran, Miss. Bertha  female  NaN      1   \n",
      "121                      Moore, Mr. Leonard Charles    male  NaN      0   \n",
      "126                             McMahon, Mr. Martin    male  NaN      0   \n",
      "128                               Peter, Miss. Anna  female  NaN      1   \n",
      "140                   Boulos, Mrs. Joseph (Sultana)  female  NaN      0   \n",
      "154                           Olsen, Mr. Ole Martin    male  NaN      0   \n",
      "..                                              ...     ...  ...    ...   \n",
      "718                             McEvoy, Mr. Michael    male  NaN      0   \n",
      "727                        Mannion, Miss. Margareth  female  NaN      0   \n",
      "732                            Knight, Mr. Robert J    male  NaN      0   \n",
      "738                              Ivanoff, Mr. Kanio    male  NaN      0   \n",
      "739                              Nankoff, Mr. Minko    male  NaN      0   \n",
      "740                     Hawksford, Mr. Walter James    male  NaN      0   \n",
      "760                              Garfirth, Mr. John    male  NaN      0   \n",
      "766                       Brewe, Dr. Arthur Jackson    male  NaN      0   \n",
      "768                             Moran, Mr. Daniel J    male  NaN      1   \n",
      "773                                 Elias, Mr. Dibo    male  NaN      0   \n",
      "776                                Tobin, Mr. Roger    male  NaN      0   \n",
      "778                         Kilgannon, Mr. Thomas J    male  NaN      0   \n",
      "783                          Johnston, Mr. Andrew G    male  NaN      1   \n",
      "790                        Keane, Mr. Andrew \"Andy\"    male  NaN      0   \n",
      "792                         Sage, Miss. Stella Anna  female  NaN      8   \n",
      "793                        Hoyt, Mr. William Fisher    male  NaN      0   \n",
      "815                                Fry, Mr. Richard    male  NaN      0   \n",
      "825                                 Flynn, Mr. John    male  NaN      0   \n",
      "826                                    Lam, Mr. Len    male  NaN      0   \n",
      "828                    McCormack, Mr. Thomas Joseph    male  NaN      0   \n",
      "832                                  Saad, Mr. Amin    male  NaN      0   \n",
      "837                             Sirota, Mr. Maurice    male  NaN      0   \n",
      "839                            Marechal, Mr. Pierre    male  NaN      0   \n",
      "846                        Sage, Mr. Douglas Bullen    male  NaN      8   \n",
      "849    Goldenberg, Mrs. Samuel L (Edwiga Grabowska)  female  NaN      1   \n",
      "859                                Razi, Mr. Raihed    male  NaN      0   \n",
      "863               Sage, Miss. Dorothy Edith \"Dolly\"  female  NaN      8   \n",
      "868                     van Melkebeke, Mr. Philemon    male  NaN      0   \n",
      "878                              Laleff, Mr. Kristo    male  NaN      0   \n",
      "888        Johnston, Miss. Catherine Helen \"Carrie\"  female  NaN      1   \n",
      "\n",
      "     Parch           Ticket      Fare  Cabin Embarked  \n",
      "5        0           330877    8.4583    NaN        Q  \n",
      "17       0           244373   13.0000    NaN        S  \n",
      "19       0             2649    7.2250    NaN        C  \n",
      "26       0             2631    7.2250    NaN        C  \n",
      "28       0           330959    7.8792    NaN        Q  \n",
      "29       0           349216    7.8958    NaN        S  \n",
      "31       0         PC 17569  146.5208    B78        C  \n",
      "32       0           335677    7.7500    NaN        Q  \n",
      "36       0             2677    7.2292    NaN        C  \n",
      "42       0           349253    7.8958    NaN        C  \n",
      "45       0  S.C./A.4. 23567    8.0500    NaN        S  \n",
      "46       0           370371   15.5000    NaN        Q  \n",
      "47       0            14311    7.7500    NaN        Q  \n",
      "48       0             2662   21.6792    NaN        C  \n",
      "55       0            19947   35.5000    C52        S  \n",
      "64       0         PC 17605   27.7208    NaN        C  \n",
      "65       1             2661   15.2458    NaN        C  \n",
      "76       0           349208    7.8958    NaN        S  \n",
      "77       0           374746    8.0500    NaN        S  \n",
      "82       0           330932    7.7875    NaN        Q  \n",
      "87       0  SOTON/OQ 392086    8.0500    NaN        S  \n",
      "95       0           374910    8.0500    NaN        S  \n",
      "101      0           349215    7.8958    NaN        S  \n",
      "107      0           312991    7.7750    NaN        S  \n",
      "109      0           371110   24.1500    NaN        Q  \n",
      "121      0        A4. 54510    8.0500    NaN        S  \n",
      "126      0           370372    7.7500    NaN        Q  \n",
      "128      1             2668   22.3583  F E69        C  \n",
      "140      2             2678   15.2458    NaN        C  \n",
      "154      0        Fa 265302    7.3125    NaN        S  \n",
      "..     ...              ...       ...    ...      ...  \n",
      "718      0            36568   15.5000    NaN        Q  \n",
      "727      0            36866    7.7375    NaN        Q  \n",
      "732      0           239855    0.0000    NaN        S  \n",
      "738      0           349201    7.8958    NaN        S  \n",
      "739      0           349218    7.8958    NaN        S  \n",
      "740      0            16988   30.0000    D45        S  \n",
      "760      0           358585   14.5000    NaN        S  \n",
      "766      0           112379   39.6000    NaN        C  \n",
      "768      0           371110   24.1500    NaN        Q  \n",
      "773      0             2674    7.2250    NaN        C  \n",
      "776      0           383121    7.7500    F38        Q  \n",
      "778      0            36865    7.7375    NaN        Q  \n",
      "783      2       W./C. 6607   23.4500    NaN        S  \n",
      "790      0            12460    7.7500    NaN        Q  \n",
      "792      2         CA. 2343   69.5500    NaN        S  \n",
      "793      0         PC 17600   30.6958    NaN        C  \n",
      "815      0           112058    0.0000   B102        S  \n",
      "825      0           368323    6.9500    NaN        Q  \n",
      "826      0             1601   56.4958    NaN        S  \n",
      "828      0           367228    7.7500    NaN        Q  \n",
      "832      0             2671    7.2292    NaN        C  \n",
      "837      0           392092    8.0500    NaN        S  \n",
      "839      0            11774   29.7000    C47        C  \n",
      "846      2         CA. 2343   69.5500    NaN        S  \n",
      "849      0            17453   89.1042    C92        C  \n",
      "859      0             2629    7.2292    NaN        C  \n",
      "863      2         CA. 2343   69.5500    NaN        S  \n",
      "868      0           345777    9.5000    NaN        S  \n",
      "878      0           349217    7.8958    NaN        S  \n",
      "888      2       W./C. 6607   23.4500    NaN        S  \n",
      "\n",
      "[177 rows x 12 columns]\n",
      "\n",
      "\n",
      "SibSp: \n",
      "\n",
      "Empty DataFrame\n",
      "Columns: [PassengerId, Survived, Pclass, Name, Sex, Age, SibSp, Parch, Ticket, Fare, Cabin, Embarked]\n",
      "Index: []\n",
      "\n",
      "\n",
      "Parch: \n",
      "\n",
      "Empty DataFrame\n",
      "Columns: [PassengerId, Survived, Pclass, Name, Sex, Age, SibSp, Parch, Ticket, Fare, Cabin, Embarked]\n",
      "Index: []\n",
      "\n",
      "\n",
      "Ticket: \n",
      "\n",
      "Empty DataFrame\n",
      "Columns: [PassengerId, Survived, Pclass, Name, Sex, Age, SibSp, Parch, Ticket, Fare, Cabin, Embarked]\n",
      "Index: []\n",
      "\n",
      "\n",
      "Fare: \n",
      "\n",
      "Empty DataFrame\n",
      "Columns: [PassengerId, Survived, Pclass, Name, Sex, Age, SibSp, Parch, Ticket, Fare, Cabin, Embarked]\n",
      "Index: []\n",
      "\n",
      "\n",
      "Cabin: \n",
      "\n",
      "     PassengerId  Survived  Pclass  \\\n",
      "0              1         0       3   \n",
      "2              3         1       3   \n",
      "4              5         0       3   \n",
      "5              6         0       3   \n",
      "7              8         0       3   \n",
      "8              9         1       3   \n",
      "9             10         1       2   \n",
      "12            13         0       3   \n",
      "13            14         0       3   \n",
      "14            15         0       3   \n",
      "15            16         1       2   \n",
      "16            17         0       3   \n",
      "17            18         1       2   \n",
      "18            19         0       3   \n",
      "19            20         1       3   \n",
      "20            21         0       2   \n",
      "22            23         1       3   \n",
      "24            25         0       3   \n",
      "25            26         1       3   \n",
      "26            27         0       3   \n",
      "28            29         1       3   \n",
      "29            30         0       3   \n",
      "30            31         0       1   \n",
      "32            33         1       3   \n",
      "33            34         0       2   \n",
      "34            35         0       1   \n",
      "35            36         0       1   \n",
      "36            37         1       3   \n",
      "37            38         0       3   \n",
      "38            39         0       3   \n",
      "..           ...       ...     ...   \n",
      "852          853         0       3   \n",
      "854          855         0       2   \n",
      "855          856         1       3   \n",
      "856          857         1       1   \n",
      "858          859         1       3   \n",
      "859          860         0       3   \n",
      "860          861         0       3   \n",
      "861          862         0       2   \n",
      "863          864         0       3   \n",
      "864          865         0       2   \n",
      "865          866         1       2   \n",
      "866          867         1       2   \n",
      "868          869         0       3   \n",
      "869          870         1       3   \n",
      "870          871         0       3   \n",
      "873          874         0       3   \n",
      "874          875         1       2   \n",
      "875          876         1       3   \n",
      "876          877         0       3   \n",
      "877          878         0       3   \n",
      "878          879         0       3   \n",
      "880          881         1       2   \n",
      "881          882         0       3   \n",
      "882          883         0       3   \n",
      "883          884         0       2   \n",
      "884          885         0       3   \n",
      "885          886         0       3   \n",
      "886          887         0       2   \n",
      "888          889         0       3   \n",
      "890          891         0       3   \n",
      "\n",
      "                                                  Name     Sex   Age  SibSp  \\\n",
      "0                              Braund, Mr. Owen Harris    male  22.0      1   \n",
      "2                               Heikkinen, Miss. Laina  female  26.0      0   \n",
      "4                             Allen, Mr. William Henry    male  35.0      0   \n",
      "5                                     Moran, Mr. James    male   NaN      0   \n",
      "7                       Palsson, Master. Gosta Leonard    male   2.0      3   \n",
      "8    Johnson, Mrs. Oscar W (Elisabeth Vilhelmina Berg)  female  27.0      0   \n",
      "9                  Nasser, Mrs. Nicholas (Adele Achem)  female  14.0      1   \n",
      "12                      Saundercock, Mr. William Henry    male  20.0      0   \n",
      "13                         Andersson, Mr. Anders Johan    male  39.0      1   \n",
      "14                Vestrom, Miss. Hulda Amanda Adolfina  female  14.0      0   \n",
      "15                    Hewlett, Mrs. (Mary D Kingcome)   female  55.0      0   \n",
      "16                                Rice, Master. Eugene    male   2.0      4   \n",
      "17                        Williams, Mr. Charles Eugene    male   NaN      0   \n",
      "18   Vander Planke, Mrs. Julius (Emelia Maria Vande...  female  31.0      1   \n",
      "19                             Masselmani, Mrs. Fatima  female   NaN      0   \n",
      "20                                Fynney, Mr. Joseph J    male  35.0      0   \n",
      "22                         McGowan, Miss. Anna \"Annie\"  female  15.0      0   \n",
      "24                       Palsson, Miss. Torborg Danira  female   8.0      3   \n",
      "25   Asplund, Mrs. Carl Oscar (Selma Augusta Emilia...  female  38.0      1   \n",
      "26                             Emir, Mr. Farred Chehab    male   NaN      0   \n",
      "28                       O'Dwyer, Miss. Ellen \"Nellie\"  female   NaN      0   \n",
      "29                                 Todoroff, Mr. Lalio    male   NaN      0   \n",
      "30                            Uruchurtu, Don. Manuel E    male  40.0      0   \n",
      "32                            Glynn, Miss. Mary Agatha  female   NaN      0   \n",
      "33                               Wheadon, Mr. Edward H    male  66.0      0   \n",
      "34                             Meyer, Mr. Edgar Joseph    male  28.0      1   \n",
      "35                      Holverson, Mr. Alexander Oskar    male  42.0      1   \n",
      "36                                    Mamee, Mr. Hanna    male   NaN      0   \n",
      "37                            Cann, Mr. Ernest Charles    male  21.0      0   \n",
      "38                  Vander Planke, Miss. Augusta Maria  female  18.0      2   \n",
      "..                                                 ...     ...   ...    ...   \n",
      "852                            Boulos, Miss. Nourelain  female   9.0      1   \n",
      "854      Carter, Mrs. Ernest Courtenay (Lilian Hughes)  female  44.0      1   \n",
      "855                         Aks, Mrs. Sam (Leah Rosen)  female  18.0      0   \n",
      "856         Wick, Mrs. George Dennick (Mary Hitchcock)  female  45.0      1   \n",
      "858              Baclini, Mrs. Solomon (Latifa Qurban)  female  24.0      0   \n",
      "859                                   Razi, Mr. Raihed    male   NaN      0   \n",
      "860                            Hansen, Mr. Claus Peter    male  41.0      2   \n",
      "861                        Giles, Mr. Frederick Edward    male  21.0      1   \n",
      "863                  Sage, Miss. Dorothy Edith \"Dolly\"  female   NaN      8   \n",
      "864                             Gill, Mr. John William    male  24.0      0   \n",
      "865                           Bystrom, Mrs. (Karolina)  female  42.0      0   \n",
      "866                       Duran y More, Miss. Asuncion  female  27.0      1   \n",
      "868                        van Melkebeke, Mr. Philemon    male   NaN      0   \n",
      "869                    Johnson, Master. Harold Theodor    male   4.0      1   \n",
      "870                                  Balkic, Mr. Cerin    male  26.0      0   \n",
      "873                        Vander Cruyssen, Mr. Victor    male  47.0      0   \n",
      "874              Abelson, Mrs. Samuel (Hannah Wizosky)  female  28.0      1   \n",
      "875                   Najib, Miss. Adele Kiamie \"Jane\"  female  15.0      0   \n",
      "876                      Gustafsson, Mr. Alfred Ossian    male  20.0      0   \n",
      "877                               Petroff, Mr. Nedelio    male  19.0      0   \n",
      "878                                 Laleff, Mr. Kristo    male   NaN      0   \n",
      "880       Shelley, Mrs. William (Imanita Parrish Hall)  female  25.0      0   \n",
      "881                                 Markun, Mr. Johann    male  33.0      0   \n",
      "882                       Dahlberg, Miss. Gerda Ulrika  female  22.0      0   \n",
      "883                      Banfield, Mr. Frederick James    male  28.0      0   \n",
      "884                             Sutehall, Mr. Henry Jr    male  25.0      0   \n",
      "885               Rice, Mrs. William (Margaret Norton)  female  39.0      0   \n",
      "886                              Montvila, Rev. Juozas    male  27.0      0   \n",
      "888           Johnston, Miss. Catherine Helen \"Carrie\"  female   NaN      1   \n",
      "890                                Dooley, Mr. Patrick    male  32.0      0   \n",
      "\n",
      "     Parch            Ticket      Fare Cabin Embarked  \n",
      "0        0         A/5 21171    7.2500   NaN        S  \n",
      "2        0  STON/O2. 3101282    7.9250   NaN        S  \n",
      "4        0            373450    8.0500   NaN        S  \n",
      "5        0            330877    8.4583   NaN        Q  \n",
      "7        1            349909   21.0750   NaN        S  \n",
      "8        2            347742   11.1333   NaN        S  \n",
      "9        0            237736   30.0708   NaN        C  \n",
      "12       0         A/5. 2151    8.0500   NaN        S  \n",
      "13       5            347082   31.2750   NaN        S  \n",
      "14       0            350406    7.8542   NaN        S  \n",
      "15       0            248706   16.0000   NaN        S  \n",
      "16       1            382652   29.1250   NaN        Q  \n",
      "17       0            244373   13.0000   NaN        S  \n",
      "18       0            345763   18.0000   NaN        S  \n",
      "19       0              2649    7.2250   NaN        C  \n",
      "20       0            239865   26.0000   NaN        S  \n",
      "22       0            330923    8.0292   NaN        Q  \n",
      "24       1            349909   21.0750   NaN        S  \n",
      "25       5            347077   31.3875   NaN        S  \n",
      "26       0              2631    7.2250   NaN        C  \n",
      "28       0            330959    7.8792   NaN        Q  \n",
      "29       0            349216    7.8958   NaN        S  \n",
      "30       0          PC 17601   27.7208   NaN        C  \n",
      "32       0            335677    7.7500   NaN        Q  \n",
      "33       0        C.A. 24579   10.5000   NaN        S  \n",
      "34       0          PC 17604   82.1708   NaN        C  \n",
      "35       0            113789   52.0000   NaN        S  \n",
      "36       0              2677    7.2292   NaN        C  \n",
      "37       0        A./5. 2152    8.0500   NaN        S  \n",
      "38       0            345764   18.0000   NaN        S  \n",
      "..     ...               ...       ...   ...      ...  \n",
      "852      1              2678   15.2458   NaN        C  \n",
      "854      0            244252   26.0000   NaN        S  \n",
      "855      1            392091    9.3500   NaN        S  \n",
      "856      1             36928  164.8667   NaN        S  \n",
      "858      3              2666   19.2583   NaN        C  \n",
      "859      0              2629    7.2292   NaN        C  \n",
      "860      0            350026   14.1083   NaN        S  \n",
      "861      0             28134   11.5000   NaN        S  \n",
      "863      2          CA. 2343   69.5500   NaN        S  \n",
      "864      0            233866   13.0000   NaN        S  \n",
      "865      0            236852   13.0000   NaN        S  \n",
      "866      0     SC/PARIS 2149   13.8583   NaN        C  \n",
      "868      0            345777    9.5000   NaN        S  \n",
      "869      1            347742   11.1333   NaN        S  \n",
      "870      0            349248    7.8958   NaN        S  \n",
      "873      0            345765    9.0000   NaN        S  \n",
      "874      0         P/PP 3381   24.0000   NaN        C  \n",
      "875      0              2667    7.2250   NaN        C  \n",
      "876      0              7534    9.8458   NaN        S  \n",
      "877      0            349212    7.8958   NaN        S  \n",
      "878      0            349217    7.8958   NaN        S  \n",
      "880      1            230433   26.0000   NaN        S  \n",
      "881      0            349257    7.8958   NaN        S  \n",
      "882      0              7552   10.5167   NaN        S  \n",
      "883      0  C.A./SOTON 34068   10.5000   NaN        S  \n",
      "884      0   SOTON/OQ 392076    7.0500   NaN        S  \n",
      "885      5            382652   29.1250   NaN        Q  \n",
      "886      0            211536   13.0000   NaN        S  \n",
      "888      2        W./C. 6607   23.4500   NaN        S  \n",
      "890      0            370376    7.7500   NaN        Q  \n",
      "\n",
      "[687 rows x 12 columns]\n",
      "\n",
      "\n",
      "Embarked: \n",
      "\n",
      "     PassengerId  Survived  Pclass                                       Name  \\\n",
      "61            62         1       1                        Icard, Miss. Amelie   \n",
      "829          830         1       1  Stone, Mrs. George Nelson (Martha Evelyn)   \n",
      "\n",
      "        Sex   Age  SibSp  Parch  Ticket  Fare Cabin Embarked  \n",
      "61   female  38.0      0      0  113572  80.0   B28      NaN  \n",
      "829  female  62.0      0      0  113572  80.0   B28      NaN  \n",
      "\n",
      "\n"
     ]
    }
   ],
   "source": [
    "y=0\n",
    "for i in dfAttrib:   \n",
    "    print(dfAttrib[y] + \": \\n\")\n",
    "    print(df[df[i].isnull()])\n",
    "    print(\"\\n\")\n",
    "    y=y+1"
   ]
  },
  {
   "cell_type": "markdown",
   "metadata": {},
   "source": [
    "\n",
    "### There are missing values for the following attributes:\n",
    "\n",
    "<li> Age (177 rows)\n",
    "<li> Cabin (687 rows)\n",
    "<li> Embarked (2 rows)"
   ]
  },
  {
   "cell_type": "code",
   "execution_count": 69,
   "metadata": {
    "collapsed": false
   },
   "outputs": [
    {
     "name": "stderr",
     "output_type": "stream",
     "text": [
      "C:\\Users\\User\\Anaconda3\\lib\\site-packages\\numpy\\lib\\function_base.py:3834: RuntimeWarning: Invalid value encountered in percentile\n",
      "  RuntimeWarning)\n"
     ]
    },
    {
     "data": {
      "text/html": [
       "<div>\n",
       "<table border=\"1\" class=\"dataframe\">\n",
       "  <thead>\n",
       "    <tr style=\"text-align: right;\">\n",
       "      <th></th>\n",
       "      <th>PassengerId</th>\n",
       "      <th>Survived</th>\n",
       "      <th>Pclass</th>\n",
       "      <th>Age</th>\n",
       "      <th>SibSp</th>\n",
       "      <th>Parch</th>\n",
       "      <th>Fare</th>\n",
       "    </tr>\n",
       "  </thead>\n",
       "  <tbody>\n",
       "    <tr>\n",
       "      <th>count</th>\n",
       "      <td>891.000000</td>\n",
       "      <td>891.000000</td>\n",
       "      <td>891.000000</td>\n",
       "      <td>714.000000</td>\n",
       "      <td>891.000000</td>\n",
       "      <td>891.000000</td>\n",
       "      <td>891.000000</td>\n",
       "    </tr>\n",
       "    <tr>\n",
       "      <th>mean</th>\n",
       "      <td>446.000000</td>\n",
       "      <td>0.383838</td>\n",
       "      <td>2.308642</td>\n",
       "      <td>29.699118</td>\n",
       "      <td>0.523008</td>\n",
       "      <td>0.381594</td>\n",
       "      <td>32.204208</td>\n",
       "    </tr>\n",
       "    <tr>\n",
       "      <th>std</th>\n",
       "      <td>257.353842</td>\n",
       "      <td>0.486592</td>\n",
       "      <td>0.836071</td>\n",
       "      <td>14.526497</td>\n",
       "      <td>1.102743</td>\n",
       "      <td>0.806057</td>\n",
       "      <td>49.693429</td>\n",
       "    </tr>\n",
       "    <tr>\n",
       "      <th>min</th>\n",
       "      <td>1.000000</td>\n",
       "      <td>0.000000</td>\n",
       "      <td>1.000000</td>\n",
       "      <td>0.420000</td>\n",
       "      <td>0.000000</td>\n",
       "      <td>0.000000</td>\n",
       "      <td>0.000000</td>\n",
       "    </tr>\n",
       "    <tr>\n",
       "      <th>25%</th>\n",
       "      <td>223.500000</td>\n",
       "      <td>0.000000</td>\n",
       "      <td>2.000000</td>\n",
       "      <td>NaN</td>\n",
       "      <td>0.000000</td>\n",
       "      <td>0.000000</td>\n",
       "      <td>7.910400</td>\n",
       "    </tr>\n",
       "    <tr>\n",
       "      <th>50%</th>\n",
       "      <td>446.000000</td>\n",
       "      <td>0.000000</td>\n",
       "      <td>3.000000</td>\n",
       "      <td>NaN</td>\n",
       "      <td>0.000000</td>\n",
       "      <td>0.000000</td>\n",
       "      <td>14.454200</td>\n",
       "    </tr>\n",
       "    <tr>\n",
       "      <th>75%</th>\n",
       "      <td>668.500000</td>\n",
       "      <td>1.000000</td>\n",
       "      <td>3.000000</td>\n",
       "      <td>NaN</td>\n",
       "      <td>1.000000</td>\n",
       "      <td>0.000000</td>\n",
       "      <td>31.000000</td>\n",
       "    </tr>\n",
       "    <tr>\n",
       "      <th>max</th>\n",
       "      <td>891.000000</td>\n",
       "      <td>1.000000</td>\n",
       "      <td>3.000000</td>\n",
       "      <td>80.000000</td>\n",
       "      <td>8.000000</td>\n",
       "      <td>6.000000</td>\n",
       "      <td>512.329200</td>\n",
       "    </tr>\n",
       "  </tbody>\n",
       "</table>\n",
       "</div>"
      ],
      "text/plain": [
       "       PassengerId    Survived      Pclass         Age       SibSp  \\\n",
       "count   891.000000  891.000000  891.000000  714.000000  891.000000   \n",
       "mean    446.000000    0.383838    2.308642   29.699118    0.523008   \n",
       "std     257.353842    0.486592    0.836071   14.526497    1.102743   \n",
       "min       1.000000    0.000000    1.000000    0.420000    0.000000   \n",
       "25%     223.500000    0.000000    2.000000         NaN    0.000000   \n",
       "50%     446.000000    0.000000    3.000000         NaN    0.000000   \n",
       "75%     668.500000    1.000000    3.000000         NaN    1.000000   \n",
       "max     891.000000    1.000000    3.000000   80.000000    8.000000   \n",
       "\n",
       "            Parch        Fare  \n",
       "count  891.000000  891.000000  \n",
       "mean     0.381594   32.204208  \n",
       "std      0.806057   49.693429  \n",
       "min      0.000000    0.000000  \n",
       "25%      0.000000    7.910400  \n",
       "50%      0.000000   14.454200  \n",
       "75%      0.000000   31.000000  \n",
       "max      6.000000  512.329200  "
      ]
     },
     "execution_count": 69,
     "metadata": {},
     "output_type": "execute_result"
    }
   ],
   "source": [
    "df.describe()"
   ]
  },
  {
   "cell_type": "markdown",
   "metadata": {},
   "source": [
    "# Exploration of the continuous variables\n",
    "\n",
    "### Age\n",
    "<li> Min = 0.42\n",
    "<li> Max = 80.0\n",
    "<li> Mean = 29.699118\n",
    "<li> Standard Deviation = 14.526497\n",
    "### Fare\n",
    "<li> Min = 0.0\n",
    "<li> Max = 512.329200\n",
    "<li> Mean = 32.204208\n",
    "<li> Standard Deviation = 49.693429"
   ]
  },
  {
   "cell_type": "markdown",
   "metadata": {},
   "source": [
    "# Histograms and Plots\n"
   ]
  },
  {
   "cell_type": "code",
   "execution_count": 90,
   "metadata": {
    "collapsed": false
   },
   "outputs": [
    {
     "data": {
      "text/plain": [
       "<matplotlib.axes._subplots.AxesSubplot at 0x1fe76a949e8>"
      ]
     },
     "execution_count": 90,
     "metadata": {},
     "output_type": "execute_result"
    },
    {
     "data": {
      "image/png": "[encoded data removed]",
      "text/plain": [
       "<matplotlib.figure.Figure at 0x1fe758984e0>"
      ]
     },
     "metadata": {},
     "output_type": "display_data"
    }
   ],
   "source": [
    "df.PassengerId.hist()"
   ]
  },
  {
   "cell_type": "code",
   "execution_count": 91,
   "metadata": {
    "collapsed": false
   },
   "outputs": [
    {
     "data": {
      "text/plain": [
       "<matplotlib.axes._subplots.AxesSubplot at 0x1fe7587bc50>"
      ]
     },
     "execution_count": 91,
     "metadata": {},
     "output_type": "execute_result"
    },
    {
     "data": {
      "image/png": "[encoded data removed]",
      "text/plain": [
       "<matplotlib.figure.Figure at 0x1fe76cfc320>"
      ]
     },
     "metadata": {},
     "output_type": "display_data"
    }
   ],
   "source": [
    "df.Survived.hist()"
   ]
  },
  {
   "cell_type": "code",
   "execution_count": 92,
   "metadata": {
    "collapsed": false
   },
   "outputs": [
    {
     "data": {
      "text/plain": [
       "<matplotlib.axes._subplots.AxesSubplot at 0x1fe76a8f0b8>"
      ]
     },
     "execution_count": 92,
     "metadata": {},
     "output_type": "execute_result"
    },
    {
     "data": {
      "image/png": "[encoded data removed]",
      "text/plain": [
       "<matplotlib.figure.Figure at 0x1fe768b7b70>"
      ]
     },
     "metadata": {},
     "output_type": "display_data"
    }
   ],
   "source": [
    "df.Pclass.hist()\n"
   ]
  },
  {
   "cell_type": "code",
   "execution_count": 94,
   "metadata": {
    "collapsed": false
   },
   "outputs": [
    {
     "data": {
      "text/plain": [
       "<matplotlib.axes._subplots.AxesSubplot at 0x1fe750e8a58>"
      ]
     },
     "execution_count": 94,
     "metadata": {},
     "output_type": "execute_result"
    },
    {
     "data": {
      "image/png": "[encoded data removed]",
      "text/plain": [
       "<matplotlib.figure.Figure at 0x1fe76cd41d0>"
      ]
     },
     "metadata": {},
     "output_type": "display_data"
    }
   ],
   "source": [
    "df.Age.hist()"
   ]
  },
  {
   "cell_type": "code",
   "execution_count": 95,
   "metadata": {
    "collapsed": false
   },
   "outputs": [
    {
     "data": {
      "text/plain": [
       "<matplotlib.axes._subplots.AxesSubplot at 0x1fe76c52ef0>"
      ]
     },
     "execution_count": 95,
     "metadata": {},
     "output_type": "execute_result"
    },
    {
     "data": {
      "image/png": "[encoded data removed]",
      "text/plain": [
       "<matplotlib.figure.Figure at 0x1fe76c7ca58>"
      ]
     },
     "metadata": {},
     "output_type": "display_data"
    }
   ],
   "source": [
    "df.SibSp.hist()"
   ]
  },
  {
   "cell_type": "code",
   "execution_count": 96,
   "metadata": {
    "collapsed": false
   },
   "outputs": [
    {
     "data": {
      "text/plain": [
       "<matplotlib.axes._subplots.AxesSubplot at 0x1fe76d9af28>"
      ]
     },
     "execution_count": 96,
     "metadata": {},
     "output_type": "execute_result"
    },
    {
     "data": {
      "image/png": "[encoded data removed]",
      "text/plain": [
       "<matplotlib.figure.Figure at 0x1fe76dac940>"
      ]
     },
     "metadata": {},
     "output_type": "display_data"
    }
   ],
   "source": [
    "df.Parch.hist()"
   ]
  },
  {
   "cell_type": "code",
   "execution_count": 98,
   "metadata": {
    "collapsed": false
   },
   "outputs": [
    {
     "data": {
      "text/plain": [
       "<matplotlib.axes._subplots.AxesSubplot at 0x1fe76eb4550>"
      ]
     },
     "execution_count": 98,
     "metadata": {},
     "output_type": "execute_result"
    },
    {
     "data": {
      "image/png": "[encoded data removed]",
      "text/plain": [
       "<matplotlib.figure.Figure at 0x1fe76ebdb70>"
      ]
     },
     "metadata": {},
     "output_type": "display_data"
    }
   ],
   "source": [
    "df.Fare.hist()"
   ]
  },
  {
   "cell_type": "code",
   "execution_count": 115,
   "metadata": {
    "collapsed": false
   },
   "outputs": [
    {
     "data": {
      "text/plain": [
       "<matplotlib.axes._subplots.AxesSubplot at 0x1fe7a0a8208>"
      ]
     },
     "execution_count": 115,
     "metadata": {},
     "output_type": "execute_result"
    },
    {
     "data": {
      "image/png": "[encoded data removed]",
      "text/plain": [
       "<matplotlib.figure.Figure at 0x1fe7a0aea20>"
      ]
     },
     "metadata": {},
     "output_type": "display_data"
    }
   ],
   "source": [
    "df.Sex.value_counts().plot(kind='bar')"
   ]
  },
  {
   "cell_type": "code",
   "execution_count": 116,
   "metadata": {
    "collapsed": false
   },
   "outputs": [
    {
     "data": {
      "text/plain": [
       "<matplotlib.axes._subplots.AxesSubplot at 0x1fe7a0de080>"
      ]
     },
     "execution_count": 116,
     "metadata": {},
     "output_type": "execute_result"
    },
    {
     "data": {
      "image/png": "[encoded data removed]",
      "text/plain": [
       "<matplotlib.figure.Figure at 0x1fe7a120b38>"
      ]
     },
     "metadata": {},
     "output_type": "display_data"
    }
   ],
   "source": [
    "df.Cabin.value_counts().plot(kind='bar')"
   ]
  },
  {
   "cell_type": "code",
   "execution_count": 117,
   "metadata": {
    "collapsed": false
   },
   "outputs": [
    {
     "data": {
      "text/plain": [
       "<matplotlib.axes._subplots.AxesSubplot at 0x1fe78c29128>"
      ]
     },
     "execution_count": 117,
     "metadata": {},
     "output_type": "execute_result"
    },
    {
     "data": {
      "image/png": "[encoded data removed]",
      "text/plain": [
       "<matplotlib.figure.Figure at 0x1fe78d61358>"
      ]
     },
     "metadata": {},
     "output_type": "display_data"
    }
   ],
   "source": [
    "df.Embarked.value_counts().plot(kind='bar')"
   ]
  },
  {
   "cell_type": "markdown",
   "metadata": {},
   "source": [
    "# Additional Analysis\n"
   ]
  },
  {
   "cell_type": "code",
   "execution_count": 121,
   "metadata": {
    "collapsed": false
   },
   "outputs": [
    {
     "data": {
      "text/plain": [
       "<matplotlib.axes._subplots.AxesSubplot at 0x1fe7b8bab00>"
      ]
     },
     "execution_count": 121,
     "metadata": {},
     "output_type": "execute_result"
    },
    {
     "data": {
      "image/png": "[encoded data removed]",
      "text/plain": [
       "<matplotlib.figure.Figure at 0x1fe7a228588>"
      ]
     },
     "metadata": {},
     "output_type": "display_data"
    }
   ],
   "source": [
    "fig, axs = plt.subplots(1,2)\n",
    "df[df.Survived ==1].Age.value_counts().plot(kind='barh', ax=axs[0], title=\"Age of Survivors\")\n",
    "df[df.Survived ==0].Age.value_counts().plot(kind='barh', ax=axs[1], title=\"Age of those who died\")"
   ]
  },
  {
   "cell_type": "code",
   "execution_count": 122,
   "metadata": {
    "collapsed": false
   },
   "outputs": [
    {
     "data": {
      "text/plain": [
       "<matplotlib.axes._subplots.AxesSubplot at 0x1fe7bc71208>"
      ]
     },
     "execution_count": 122,
     "metadata": {},
     "output_type": "execute_result"
    },
    {
     "data": {
      "image/png": "[encoded data removed]",
      "text/plain": [
       "<matplotlib.figure.Figure at 0x1fe78a31390>"
      ]
     },
     "metadata": {},
     "output_type": "display_data"
    }
   ],
   "source": [
    "fig, axs = plt.subplots(1,2)\n",
    "df[df.Survived ==1].Embarked.value_counts().plot(kind='barh', ax=axs[0], title=\"Survivors by port\")\n",
    "df[df.Survived ==0].Embarked.value_counts().plot(kind='barh', ax=axs[1], title=\"Fatalities by port\")"
   ]
  },
  {
   "cell_type": "code",
   "execution_count": 123,
   "metadata": {
    "collapsed": false
   },
   "outputs": [
    {
     "data": {
      "text/plain": [
       "<matplotlib.axes._subplots.AxesSubplot at 0x1fe7bd33780>"
      ]
     },
     "execution_count": 123,
     "metadata": {},
     "output_type": "execute_result"
    },
    {
     "data": {
      "image/png": "[encoded data removed]",
      "text/plain": [
       "<matplotlib.figure.Figure at 0x1fe7bcc40f0>"
      ]
     },
     "metadata": {},
     "output_type": "display_data"
    }
   ],
   "source": [
    "fig, axs = plt.subplots(1,2)\n",
    "df[df.Survived ==1].Pclass.value_counts().plot(kind='barh', ax=axs[0], title=\"Survivors by Pclass\")\n",
    "df[df.Survived ==0].Pclass.value_counts().plot(kind='barh', ax=axs[1], title=\"Fatalities by Pclass\")"
   ]
  },
  {
   "cell_type": "code",
   "execution_count": 126,
   "metadata": {
    "collapsed": false
   },
   "outputs": [
    {
     "data": {
      "text/plain": [
       "<matplotlib.axes._subplots.AxesSubplot at 0x1fe7cf6d278>"
      ]
     },
     "execution_count": 126,
     "metadata": {},
     "output_type": "execute_result"
    },
    {
     "data": {
      "image/png": "[encoded data removed]",
      "text/plain": [
       "<matplotlib.figure.Figure at 0x1fe7bf38b70>"
      ]
     },
     "metadata": {},
     "output_type": "display_data"
    }
   ],
   "source": [
    "fig, axs = plt.subplots(1,2)\n",
    "df[df.Fare > 32.204208].Survived.value_counts().plot(kind='barh', ax=axs[0], title=\"Survivors with above average fare\")\n",
    "df[df.Fare < 32.204208].Survived.value_counts().plot(kind='barh', ax=axs[1], title=\"Survivors below average fare\")"
   ]
  },
  {
   "cell_type": "code",
   "execution_count": null,
   "metadata": {
    "collapsed": true
   },
   "outputs": [],
   "source": []
  }
 ],
 "metadata": {
  "kernelspec": {
   "display_name": "Python [default]",
   "language": "python",
   "name": "python3"
  },
  "language_info": {
   "codemirror_mode": {
    "name": "ipython",
    "version": 3
   },
   "file_extension": ".py",
   "mimetype": "text/x-python",
   "name": "python",
   "nbconvert_exporter": "python",
   "pygments_lexer": "ipython3",
   "version": "3.5.2"
  }
 },
 "nbformat": 4,
 "nbformat_minor": 1
}
