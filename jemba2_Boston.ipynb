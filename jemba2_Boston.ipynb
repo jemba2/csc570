{
 "cells": [
  {
   "cell_type": "markdown",
   "metadata": {},
   "source": [
    "## Boston Housing Assignment\n",
    "\n",
    "In this assignment you'll be using linear regression to estimate the cost of house in boston, using a well known dataset.\n",
    "\n",
    "Goals:\n",
    "+  Measure the performance of the model I created using $R^{2}$ and MSE\n",
    "> Learn how to use sklearn.metrics.r2_score and sklearn.metrics.mean_squared_error\n",
    "+  Implement a new model using L2 regularization\n",
    "> Use sklearn.linear_model.Ridge or sklearn.linear_model.Lasso \n",
    "+  Get the best model you can by optimizing the regularization parameter.   "
   ]
  },
  {
   "cell_type": "code",
   "execution_count": 6,
   "metadata": {
    "collapsed": false
   },
   "outputs": [],
   "source": [
    "from sklearn import datasets\n",
    "import pandas as pd\n",
    "from sklearn.preprocessing import StandardScaler\n",
    "from sklearn.cross_validation import train_test_split\n",
    "from sklearn.metrics import mean_squared_error\n",
    "from sklearn.metrics import r2_score\n",
    "from sklearn.linear_model import LinearRegression"
   ]
  },
  {
   "cell_type": "code",
   "execution_count": 7,
   "metadata": {
    "collapsed": false
   },
   "outputs": [
    {
     "name": "stdout",
     "output_type": "stream",
     "text": [
      "Boston House Prices dataset\n",
      "\n",
      "Notes\n",
      "------\n",
      "Data Set Characteristics:  \n",
      "\n",
      "    :Number of Instances: 506 \n",
      "\n",
      "    :Number of Attributes: 13 numeric/categorical predictive\n",
      "    \n",
      "    :Median Value (attribute 14) is usually the target\n",
      "\n",
      "    :Attribute Information (in order):\n",
      "        - CRIM     per capita crime rate by town\n",
      "        - ZN       proportion of residential land zoned for lots over 25,000 sq.ft.\n",
      "        - INDUS    proportion of non-retail business acres per town\n",
      "        - CHAS     Charles River dummy variable (= 1 if tract bounds river; 0 otherwise)\n",
      "        - NOX      nitric oxides concentration (parts per 10 million)\n",
      "        - RM       average number of rooms per dwelling\n",
      "        - AGE      proportion of owner-occupied units built prior to 1940\n",
      "        - DIS      weighted distances to five Boston employment centres\n",
      "        - RAD      index of accessibility to radial highways\n",
      "        - TAX      full-value property-tax rate per $10,000\n",
      "        - PTRATIO  pupil-teacher ratio by town\n",
      "        - B        1000(Bk - 0.63)^2 where Bk is the proportion of blacks by town\n",
      "        - LSTAT    % lower status of the population\n",
      "        - MEDV     Median value of owner-occupied homes in $1000's\n",
      "\n",
      "    :Missing Attribute Values: None\n",
      "\n",
      "    :Creator: Harrison, D. and Rubinfeld, D.L.\n",
      "\n",
      "This is a copy of UCI ML housing dataset.\n",
      "http://archive.ics.uci.edu/ml/datasets/Housing\n",
      "\n",
      "\n",
      "This dataset was taken from the StatLib library which is maintained at Carnegie Mellon University.\n",
      "\n",
      "The Boston house-price data of Harrison, D. and Rubinfeld, D.L. 'Hedonic\n",
      "prices and the demand for clean air', J. Environ. Economics & Management,\n",
      "vol.5, 81-102, 1978.   Used in Belsley, Kuh & Welsch, 'Regression diagnostics\n",
      "...', Wiley, 1980.   N.B. Various transformations are used in the table on\n",
      "pages 244-261 of the latter.\n",
      "\n",
      "The Boston house-price data has been used in many machine learning papers that address regression\n",
      "problems.   \n",
      "     \n",
      "**References**\n",
      "\n",
      "   - Belsley, Kuh & Welsch, 'Regression diagnostics: Identifying Influential Data and Sources of Collinearity', Wiley, 1980. 244-261.\n",
      "   - Quinlan,R. (1993). Combining Instance-Based and Model-Based Learning. In Proceedings on the Tenth International Conference of Machine Learning, 236-243, University of Massachusetts, Amherst. Morgan Kaufmann.\n",
      "   - many more! (see http://archive.ics.uci.edu/ml/datasets/Housing)\n",
      "\n"
     ]
    }
   ],
   "source": [
    "bean = datasets.load_boston()\n",
    "print(bean.DESCR)"
   ]
  },
  {
   "cell_type": "code",
   "execution_count": 8,
   "metadata": {
    "collapsed": false
   },
   "outputs": [],
   "source": [
    "def load_boston():\n",
    "    scaler = StandardScaler()\n",
    "    boston = datasets.load_boston()\n",
    "    X=boston.data\n",
    "    y=boston.target\n",
    "    X = scaler.fit_transform(X)\n",
    "    return train_test_split(X,y)\n",
    "    "
   ]
  },
  {
   "cell_type": "code",
   "execution_count": 10,
   "metadata": {
    "collapsed": false
   },
   "outputs": [],
   "source": [
    "X_train, X_test, y_train, y_test = load_boston()"
   ]
  },
  {
   "cell_type": "code",
   "execution_count": 11,
   "metadata": {
    "collapsed": false
   },
   "outputs": [
    {
     "data": {
      "text/plain": [
       "(379, 13)"
      ]
     },
     "execution_count": 11,
     "metadata": {},
     "output_type": "execute_result"
    }
   ],
   "source": [
    "X_train.shape"
   ]
  },
  {
   "cell_type": "markdown",
   "metadata": {},
   "source": [
    "### Fitting a Linear Regression\n",
    "\n",
    "It's as easy as instantiating a new regression object (line 1) and giving your regression object your training data\n",
    "(line 2) by calling .fit(independent variables, dependent variable)\n",
    "\n"
   ]
  },
  {
   "cell_type": "code",
   "execution_count": 12,
   "metadata": {
    "collapsed": false
   },
   "outputs": [
    {
     "data": {
      "text/plain": [
       "LinearRegression(copy_X=True, fit_intercept=True, n_jobs=1, normalize=False)"
      ]
     },
     "execution_count": 12,
     "metadata": {},
     "output_type": "execute_result"
    }
   ],
   "source": [
    "\n",
    "clf = LinearRegression()\n",
    "clf.fit(X_train, y_train)"
   ]
  },
  {
   "cell_type": "markdown",
   "metadata": {},
   "source": [
    "### Making a Prediction\n",
    "X_test is our holdout set of data.  We know the answer (y_test) but the computer does not.   \n",
    "\n",
    "Using the command below, I create a tuple for each observation, where I'm combining the real value (y_test) with\n",
    "the value our regressor predicts (clf.predict(X_test))\n",
    "\n",
    "Use a similiar format to get your r2 and mse metrics working.  Using the [scikit learn api](http://scikit-learn.org/stable/modules/model_evaluation.html) if you need help!"
   ]
  },
  {
   "cell_type": "code",
   "execution_count": 13,
   "metadata": {
    "collapsed": false
   },
   "outputs": [
    {
     "data": {
      "text/plain": [
       "[(34.899999999999999, 34.193228552352465),\n",
       " (12.0, 12.56595338583767),\n",
       " (14.5, 13.687925254943371),\n",
       " (26.399999999999999, 23.189094121893891),\n",
       " (21.100000000000001, 20.452081486360356),\n",
       " (20.0, 22.50916494548121),\n",
       " (23.300000000000001, 28.034909940437888),\n",
       " (21.5, 20.722582231940386),\n",
       " (48.799999999999997, 40.134377533028179),\n",
       " (18.800000000000001, 20.344218396397622),\n",
       " (29.899999999999999, 31.275576975994618),\n",
       " (22.699999999999999, 25.234919255045007),\n",
       " (17.0, 23.385781953404106),\n",
       " (15.199999999999999, 19.453436468468521),\n",
       " (19.100000000000001, 17.50287233007856),\n",
       " (21.699999999999999, 20.366859672032984),\n",
       " (36.399999999999999, 32.897053039784247),\n",
       " (25.0, 24.396952165185837),\n",
       " (22.5, 17.941284629163377),\n",
       " (12.699999999999999, 18.646043475454135),\n",
       " (34.899999999999999, 34.554994686825026),\n",
       " (23.0, 24.059201627934407),\n",
       " (17.5, 16.454080688334518),\n",
       " (23.199999999999999, 27.605610687574313),\n",
       " (17.199999999999999, 14.468970334157676),\n",
       " (13.199999999999999, 8.2610592550549313),\n",
       " (22.600000000000001, 19.602400421692863),\n",
       " (8.6999999999999993, 8.7568543827753036),\n",
       " (15.0, 25.163713313019237),\n",
       " (17.800000000000001, 21.168232714558624),\n",
       " (19.899999999999999, 18.477105393270506),\n",
       " (8.4000000000000004, 14.129572680412409),\n",
       " (14.1, 15.613987088498194),\n",
       " (13.300000000000001, 13.471305199385444),\n",
       " (11.800000000000001, 12.770341835383849),\n",
       " (29.600000000000001, 24.458984486671856),\n",
       " (18.5, 25.264766756751428),\n",
       " (20.600000000000001, 20.068150484706749),\n",
       " (20.399999999999999, 22.862925604704103),\n",
       " (43.799999999999997, 34.059705765582954),\n",
       " (16.800000000000001, 22.032209188645155),\n",
       " (24.300000000000001, 29.424767829447696),\n",
       " (13.300000000000001, 16.511483471682176),\n",
       " (23.100000000000001, 24.066507046349589),\n",
       " (15.4, 18.229939294671897),\n",
       " (22.0, 21.295393803684021),\n",
       " (16.0, 18.860456789491458),\n",
       " (22.0, 29.204275033309159),\n",
       " (21.399999999999999, 23.86103259992133),\n",
       " (5.5999999999999996, 12.413248939888723),\n",
       " (31.100000000000001, 32.217216738417243),\n",
       " (13.4, 13.277058663688939),\n",
       " (10.9, 14.313456665196403),\n",
       " (24.0, 30.05174584308147),\n",
       " (14.0, 12.945333883931353),\n",
       " (23.199999999999999, 22.821217435930709),\n",
       " (10.199999999999999, 17.291260297729892),\n",
       " (8.3000000000000007, 10.141935257652115),\n",
       " (13.1, 14.230156281612331),\n",
       " (15.6, 12.908625520670958),\n",
       " (18.5, 19.672186038818186),\n",
       " (10.800000000000001, 11.901629043431083),\n",
       " (21.899999999999999, 24.573268760386615),\n",
       " (18.399999999999999, 19.121434429973657),\n",
       " (20.600000000000001, 22.029131020322371),\n",
       " (20.100000000000001, 15.660252881281856),\n",
       " (50.0, 36.255767952382115),\n",
       " (28.399999999999999, 30.915085307372571),\n",
       " (37.899999999999999, 33.469279427613834),\n",
       " (13.5, 13.035330489351241),\n",
       " (50.0, 43.031614608836605),\n",
       " (29.399999999999999, 30.672843582355508),\n",
       " (28.5, 33.558824667890534),\n",
       " (19.699999999999999, 21.579025619931517),\n",
       " (32.399999999999999, 37.353251950205362),\n",
       " (24.100000000000001, 30.153440223872728),\n",
       " (23.300000000000001, 21.915542657763307),\n",
       " (23.0, 30.938639582875105),\n",
       " (17.199999999999999, 16.864379390441201),\n",
       " (26.699999999999999, 34.227764163385885),\n",
       " (22.800000000000001, 24.487215569164874),\n",
       " (24.600000000000001, 29.350302810895045),\n",
       " (19.5, 18.585750908358825),\n",
       " (20.100000000000001, 19.438894861661431),\n",
       " (20.199999999999999, 22.693518256364285),\n",
       " (10.9, 18.710054476540105),\n",
       " (20.0, 18.632029169391849),\n",
       " (24.399999999999999, 23.462073280638069),\n",
       " (18.300000000000001, 19.228426770381951),\n",
       " (18.199999999999999, 14.753375909110256),\n",
       " (38.700000000000003, 34.665882658627375),\n",
       " (24.5, 21.239829816717922),\n",
       " (44.0, 37.544874623358169),\n",
       " (13.6, 12.54177720764185),\n",
       " (19.399999999999999, 26.536332125567554),\n",
       " (22.0, 27.331336315352729),\n",
       " (17.399999999999999, 22.844990408985478),\n",
       " (29.100000000000001, 31.820430910555132),\n",
       " (21.699999999999999, 23.666354995252416),\n",
       " (27.5, 33.183002833252374),\n",
       " (20.399999999999999, 20.606019877878182),\n",
       " (19.899999999999999, 19.204049044512235),\n",
       " (13.800000000000001, 11.507174878583548),\n",
       " (13.300000000000001, 20.269043909967674),\n",
       " (22.5, 29.816250303736673),\n",
       " (12.5, 19.564918042557562),\n",
       " (10.5, 7.5447967140158827),\n",
       " (18.699999999999999, 21.401329798496729),\n",
       " (50.0, 38.485808272243609),\n",
       " (34.700000000000003, 29.911996807447164),\n",
       " (24.300000000000001, 24.847893933227983),\n",
       " (20.100000000000001, 24.237308530619622),\n",
       " (50.0, 45.716689934197156),\n",
       " (20.5, 20.265355373753192),\n",
       " (14.300000000000001, 13.901048874257162),\n",
       " (17.800000000000001, 15.957234191417401),\n",
       " (44.799999999999997, 37.354254226033014),\n",
       " (21.0, 20.244706561992654),\n",
       " (17.5, 16.691702561939501),\n",
       " (39.799999999999997, 33.811822472805346),\n",
       " (16.600000000000001, 15.365130317008262),\n",
       " (22.800000000000001, 26.290200207879383),\n",
       " (23.199999999999999, 17.734997397599336),\n",
       " (22.300000000000001, 27.739559225115443),\n",
       " (21.399999999999999, 20.752102192500558),\n",
       " (26.5, 25.050189869505267),\n",
       " (31.600000000000001, 32.085467635342269)]"
      ]
     },
     "execution_count": 13,
     "metadata": {},
     "output_type": "execute_result"
    }
   ],
   "source": [
    "list(zip (y_test, clf.predict(X_test)))"
   ]
  },
  {
   "cell_type": "code",
   "execution_count": 14,
   "metadata": {
    "collapsed": false
   },
   "outputs": [
    {
     "data": {
      "text/plain": [
       "0.78808472623212333"
      ]
     },
     "execution_count": 14,
     "metadata": {},
     "output_type": "execute_result"
    }
   ],
   "source": [
    "r2_score(y_test, clf.predict(X_test))"
   ]
  },
  {
   "cell_type": "code",
   "execution_count": 15,
   "metadata": {
    "collapsed": false
   },
   "outputs": [
    {
     "data": {
      "text/plain": [
       "18.307625772638801"
      ]
     },
     "execution_count": 15,
     "metadata": {},
     "output_type": "execute_result"
    }
   ],
   "source": [
    "mean_squared_error(y_test, clf.predict(X_test))"
   ]
  },
  {
   "cell_type": "code",
   "execution_count": 17,
   "metadata": {
    "collapsed": true
   },
   "outputs": [],
   "source": [
    "from sklearn.linear_model import Ridge"
   ]
  },
  {
   "cell_type": "code",
   "execution_count": 18,
   "metadata": {
    "collapsed": true
   },
   "outputs": [],
   "source": [
    "import numpy as np"
   ]
  },
  {
   "cell_type": "code",
   "execution_count": 74,
   "metadata": {
    "collapsed": false
   },
   "outputs": [
    {
     "data": {
      "text/plain": [
       "Ridge(alpha=16, copy_X=True, fit_intercept=True, max_iter=None,\n",
       "   normalize=False, random_state=None, solver='auto', tol=0.001)"
      ]
     },
     "execution_count": 74,
     "metadata": {},
     "output_type": "execute_result"
    }
   ],
   "source": [
    "rmod = Ridge(alpha=16)\n",
    "rmod.fit(X_train, y_train)"
   ]
  },
  {
   "cell_type": "code",
   "execution_count": 75,
   "metadata": {
    "collapsed": false
   },
   "outputs": [
    {
     "data": {
      "text/plain": [
       "[(34.899999999999999, 33.562256964634386),\n",
       " (12.0, 12.223882500313733),\n",
       " (14.5, 14.226788645318434),\n",
       " (26.399999999999999, 22.558297766654825),\n",
       " (21.100000000000001, 20.760610018069929),\n",
       " (20.0, 22.27174842956769),\n",
       " (23.300000000000001, 27.545965327706167),\n",
       " (21.5, 21.409157325365065),\n",
       " (48.799999999999997, 39.832478516816352),\n",
       " (18.800000000000001, 19.218435673601114),\n",
       " (29.899999999999999, 30.953920653999567),\n",
       " (22.699999999999999, 24.814715538964535),\n",
       " (17.0, 24.248156438464459),\n",
       " (15.199999999999999, 19.534627743780046),\n",
       " (19.100000000000001, 17.042157492659712),\n",
       " (21.699999999999999, 20.799573956662684),\n",
       " (36.399999999999999, 33.154936426633618),\n",
       " (25.0, 24.182551075513985),\n",
       " (22.5, 17.898151129117149),\n",
       " (12.699999999999999, 18.396476332626602),\n",
       " (34.899999999999999, 34.396284628130196),\n",
       " (23.0, 23.395064487197608),\n",
       " (17.5, 17.755970777983961),\n",
       " (23.199999999999999, 27.112599351223373),\n",
       " (17.199999999999999, 13.926354323432413),\n",
       " (13.199999999999999, 9.1975404268727541),\n",
       " (22.600000000000001, 19.727606318380978),\n",
       " (8.6999999999999993, 9.2756159337199975),\n",
       " (15.0, 24.992292461761068),\n",
       " (17.800000000000001, 21.478553926513772),\n",
       " (19.899999999999999, 18.333583809987253),\n",
       " (8.4000000000000004, 14.583427627625676),\n",
       " (14.1, 15.844591350547587),\n",
       " (13.300000000000001, 13.951911860039043),\n",
       " (11.800000000000001, 13.108724798242404),\n",
       " (29.600000000000001, 25.194197541653327),\n",
       " (18.5, 25.315725827564982),\n",
       " (20.600000000000001, 19.760266555604794),\n",
       " (20.399999999999999, 22.888712589279013),\n",
       " (43.799999999999997, 34.253211378977056),\n",
       " (16.800000000000001, 22.084872829219652),\n",
       " (24.300000000000001, 28.693498321068731),\n",
       " (13.300000000000001, 16.12297854594501),\n",
       " (23.100000000000001, 24.127474081288089),\n",
       " (15.4, 18.38392652877771),\n",
       " (22.0, 21.733117793365643),\n",
       " (16.0, 18.695234270409237),\n",
       " (22.0, 28.729942301617168),\n",
       " (21.399999999999999, 23.958307530806099),\n",
       " (5.5999999999999996, 12.616122955755367),\n",
       " (31.100000000000001, 31.982583382366812),\n",
       " (13.4, 13.103327399396488),\n",
       " (10.9, 14.549638787479811),\n",
       " (24.0, 30.280019955991477),\n",
       " (14.0, 13.595453110836941),\n",
       " (23.199999999999999, 22.33728852133255),\n",
       " (10.199999999999999, 17.142595022884827),\n",
       " (8.3000000000000007, 10.294308089507329),\n",
       " (13.1, 14.657268792969088),\n",
       " (15.6, 13.448812480154022),\n",
       " (18.5, 19.660997054649812),\n",
       " (10.800000000000001, 12.164271546999711),\n",
       " (21.899999999999999, 24.882310188828001),\n",
       " (18.399999999999999, 19.089289774402513),\n",
       " (20.600000000000001, 21.513543589121614),\n",
       " (20.100000000000001, 17.060864618022439),\n",
       " (50.0, 35.761117536484804),\n",
       " (28.399999999999999, 29.856431042101931),\n",
       " (37.899999999999999, 32.797046325600533),\n",
       " (13.5, 13.266552677876311),\n",
       " (50.0, 41.698569279836121),\n",
       " (29.399999999999999, 30.448110407344565),\n",
       " (28.5, 32.520853972260909),\n",
       " (19.699999999999999, 21.546270015059871),\n",
       " (32.399999999999999, 36.579706621991441),\n",
       " (24.100000000000001, 29.843773973822508),\n",
       " (23.300000000000001, 22.027668948989628),\n",
       " (23.0, 30.368877974777789),\n",
       " (17.199999999999999, 16.573401429657174),\n",
       " (26.699999999999999, 33.700998211378653),\n",
       " (22.800000000000001, 24.418248495951076),\n",
       " (24.600000000000001, 28.985850111136756),\n",
       " (19.5, 18.730115412176247),\n",
       " (20.100000000000001, 18.992142492975244),\n",
       " (20.199999999999999, 22.628734798309214),\n",
       " (10.9, 18.615701423686346),\n",
       " (20.0, 18.525676411726241),\n",
       " (24.399999999999999, 23.383382073911452),\n",
       " (18.300000000000001, 19.588095398768036),\n",
       " (18.199999999999999, 15.753310379877274),\n",
       " (38.700000000000003, 34.776211549299255),\n",
       " (24.5, 21.639510925107739),\n",
       " (44.0, 36.600398021172417),\n",
       " (13.6, 13.013148966009847),\n",
       " (19.399999999999999, 26.06108283591351),\n",
       " (22.0, 27.249168884072066),\n",
       " (17.399999999999999, 22.533283866386927),\n",
       " (29.100000000000001, 31.491694118124791),\n",
       " (21.699999999999999, 23.532982955108693),\n",
       " (27.5, 32.791403871640597),\n",
       " (20.399999999999999, 20.784477256501212),\n",
       " (19.899999999999999, 19.328465761767848),\n",
       " (13.800000000000001, 12.668452341451751),\n",
       " (13.300000000000001, 20.117380770746006),\n",
       " (22.5, 29.682477947445406),\n",
       " (12.5, 19.39812088740095),\n",
       " (10.5, 7.5007091727407627),\n",
       " (18.699999999999999, 21.365809700633928),\n",
       " (50.0, 38.110657281398261),\n",
       " (34.700000000000003, 29.956850467199594),\n",
       " (24.300000000000001, 24.349787820708247),\n",
       " (20.100000000000001, 23.933554767960725),\n",
       " (50.0, 44.848284556028844),\n",
       " (20.5, 19.199859499958613),\n",
       " (14.300000000000001, 14.32950957646911),\n",
       " (17.800000000000001, 16.411258961740653),\n",
       " (44.799999999999997, 36.878209579810679),\n",
       " (21.0, 20.801460266136242),\n",
       " (17.5, 17.209832302334771),\n",
       " (39.799999999999997, 33.406849142819951),\n",
       " (16.600000000000001, 15.915930403500115),\n",
       " (22.800000000000001, 26.537988839500954),\n",
       " (23.199999999999999, 17.670382587563456),\n",
       " (22.300000000000001, 27.227142663480365),\n",
       " (21.399999999999999, 20.622971730858598),\n",
       " (26.5, 25.384783420012397),\n",
       " (31.600000000000001, 31.517005263203416)]"
      ]
     },
     "execution_count": 75,
     "metadata": {},
     "output_type": "execute_result"
    }
   ],
   "source": [
    "list(zip (y_test, rmod.predict(X_test)))"
   ]
  },
  {
   "cell_type": "code",
   "execution_count": 76,
   "metadata": {
    "collapsed": false
   },
   "outputs": [
    {
     "data": {
      "text/plain": [
       "0.79136984884270967"
      ]
     },
     "execution_count": 76,
     "metadata": {},
     "output_type": "execute_result"
    }
   ],
   "source": [
    "r2_score(y_test, rmod.predict(X_test))"
   ]
  },
  {
   "cell_type": "code",
   "execution_count": 77,
   "metadata": {
    "collapsed": false
   },
   "outputs": [
    {
     "data": {
      "text/plain": [
       "18.023819918051242"
      ]
     },
     "execution_count": 77,
     "metadata": {},
     "output_type": "execute_result"
    }
   ],
   "source": [
    "mean_squared_error(y_test, rmod.predict(X_test))"
   ]
  },
  {
   "cell_type": "code",
   "execution_count": null,
   "metadata": {
    "collapsed": true
   },
   "outputs": [],
   "source": []
  }
 ],
 "metadata": {
  "anaconda-cloud": {},
  "kernelspec": {
   "display_name": "Python [default]",
   "language": "python",
   "name": "python3"
  },
  "language_info": {
   "codemirror_mode": {
    "name": "ipython",
    "version": 3
   },
   "file_extension": ".py",
   "mimetype": "text/x-python",
   "name": "python",
   "nbconvert_exporter": "python",
   "pygments_lexer": "ipython3",
   "version": "3.5.2"
  }
 },
 "nbformat": 4,
 "nbformat_minor": 0
}
